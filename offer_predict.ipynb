{
 "cells": [
  {
   "cell_type": "markdown",
   "id": "6cc7206a-62dd-4add-a5a1-176b4f396ddc",
   "metadata": {},
   "source": [
    "# 1.0. Imports"
   ]
  },
  {
   "cell_type": "code",
   "execution_count": 9,
   "id": "a4c577a3-2699-4d21-a8c8-a4a30d785d6f",
   "metadata": {},
   "outputs": [],
   "source": [
    "import pandas as pd\n",
    "import numpy as np\n",
    "import math\n",
    "import json\n",
    "import datetime\n",
    "import matplotlib.pyplot as plt\n",
    "import seaborn as sns\n",
    "import missingno as msno\n",
    "\n",
    "%matplotlib inline\n",
    "plt.rcParams['figure.figsize'] = [25, 12]\n",
    "plt.rcParams['font.size'] = 24\n",
    "sns.set()"
   ]
  },
  {
   "cell_type": "markdown",
   "id": "4b2608da-e105-4e20-b83c-294c33d755ee",
   "metadata": {},
   "source": [
    "## 1.1. Data"
   ]
  },
  {
   "cell_type": "code",
   "execution_count": 10,
   "id": "94bb2a82-efb9-4fba-b518-11782200e687",
   "metadata": {},
   "outputs": [],
   "source": [
    "# read in the json files\\\n",
    "portfolio = pd.read_json('data/portfolio.json', orient='records', lines=True)\n",
    "profile = pd.read_json('data/profile.json', orient='records', lines=True)\n",
    "transcript = pd.read_json('data/transcript.json', orient='records', lines=True)"
   ]
  },
  {
   "cell_type": "markdown",
   "id": "04bb3a35-9fae-4572-8e59-b81f9438f663",
   "metadata": {},
   "source": [
    "# 2.0. Data Prepare"
   ]
  },
  {
   "cell_type": "markdown",
   "id": "c1ff031c-dec6-4e77-b9d5-a10d96246878",
   "metadata": {},
   "source": [
    "## 2.1. Portfolio"
   ]
  },
  {
   "cell_type": "code",
   "execution_count": 11,
   "id": "71a218f7-47d9-48a8-a498-c81718a54c87",
   "metadata": {},
   "outputs": [
    {
     "data": {
      "text/html": [
       "<div>\n",
       "<style scoped>\n",
       "    .dataframe tbody tr th:only-of-type {\n",
       "        vertical-align: middle;\n",
       "    }\n",
       "\n",
       "    .dataframe tbody tr th {\n",
       "        vertical-align: top;\n",
       "    }\n",
       "\n",
       "    .dataframe thead th {\n",
       "        text-align: right;\n",
       "    }\n",
       "</style>\n",
       "<table border=\"1\" class=\"dataframe\">\n",
       "  <thead>\n",
       "    <tr style=\"text-align: right;\">\n",
       "      <th></th>\n",
       "      <th>reward</th>\n",
       "      <th>channels</th>\n",
       "      <th>difficulty</th>\n",
       "      <th>duration</th>\n",
       "      <th>offer_type</th>\n",
       "      <th>id</th>\n",
       "    </tr>\n",
       "  </thead>\n",
       "  <tbody>\n",
       "    <tr>\n",
       "      <th>0</th>\n",
       "      <td>10</td>\n",
       "      <td>[email, mobile, social]</td>\n",
       "      <td>10</td>\n",
       "      <td>7</td>\n",
       "      <td>bogo</td>\n",
       "      <td>ae264e3637204a6fb9bb56bc8210ddfd</td>\n",
       "    </tr>\n",
       "    <tr>\n",
       "      <th>1</th>\n",
       "      <td>10</td>\n",
       "      <td>[web, email, mobile, social]</td>\n",
       "      <td>10</td>\n",
       "      <td>5</td>\n",
       "      <td>bogo</td>\n",
       "      <td>4d5c57ea9a6940dd891ad53e9dbe8da0</td>\n",
       "    </tr>\n",
       "    <tr>\n",
       "      <th>2</th>\n",
       "      <td>0</td>\n",
       "      <td>[web, email, mobile]</td>\n",
       "      <td>0</td>\n",
       "      <td>4</td>\n",
       "      <td>informational</td>\n",
       "      <td>3f207df678b143eea3cee63160fa8bed</td>\n",
       "    </tr>\n",
       "    <tr>\n",
       "      <th>3</th>\n",
       "      <td>5</td>\n",
       "      <td>[web, email, mobile]</td>\n",
       "      <td>5</td>\n",
       "      <td>7</td>\n",
       "      <td>bogo</td>\n",
       "      <td>9b98b8c7a33c4b65b9aebfe6a799e6d9</td>\n",
       "    </tr>\n",
       "    <tr>\n",
       "      <th>4</th>\n",
       "      <td>5</td>\n",
       "      <td>[web, email]</td>\n",
       "      <td>20</td>\n",
       "      <td>10</td>\n",
       "      <td>discount</td>\n",
       "      <td>0b1e1539f2cc45b7b9fa7c272da2e1d7</td>\n",
       "    </tr>\n",
       "    <tr>\n",
       "      <th>5</th>\n",
       "      <td>3</td>\n",
       "      <td>[web, email, mobile, social]</td>\n",
       "      <td>7</td>\n",
       "      <td>7</td>\n",
       "      <td>discount</td>\n",
       "      <td>2298d6c36e964ae4a3e7e9706d1fb8c2</td>\n",
       "    </tr>\n",
       "    <tr>\n",
       "      <th>6</th>\n",
       "      <td>2</td>\n",
       "      <td>[web, email, mobile, social]</td>\n",
       "      <td>10</td>\n",
       "      <td>10</td>\n",
       "      <td>discount</td>\n",
       "      <td>fafdcd668e3743c1bb461111dcafc2a4</td>\n",
       "    </tr>\n",
       "    <tr>\n",
       "      <th>7</th>\n",
       "      <td>0</td>\n",
       "      <td>[email, mobile, social]</td>\n",
       "      <td>0</td>\n",
       "      <td>3</td>\n",
       "      <td>informational</td>\n",
       "      <td>5a8bc65990b245e5a138643cd4eb9837</td>\n",
       "    </tr>\n",
       "    <tr>\n",
       "      <th>8</th>\n",
       "      <td>5</td>\n",
       "      <td>[web, email, mobile, social]</td>\n",
       "      <td>5</td>\n",
       "      <td>5</td>\n",
       "      <td>bogo</td>\n",
       "      <td>f19421c1d4aa40978ebb69ca19b0e20d</td>\n",
       "    </tr>\n",
       "    <tr>\n",
       "      <th>9</th>\n",
       "      <td>2</td>\n",
       "      <td>[web, email, mobile]</td>\n",
       "      <td>10</td>\n",
       "      <td>7</td>\n",
       "      <td>discount</td>\n",
       "      <td>2906b810c7d4411798c6938adc9daaa5</td>\n",
       "    </tr>\n",
       "  </tbody>\n",
       "</table>\n",
       "</div>"
      ],
      "text/plain": [
       "   reward                      channels  difficulty  duration     offer_type  \\\n",
       "0      10       [email, mobile, social]          10         7           bogo   \n",
       "1      10  [web, email, mobile, social]          10         5           bogo   \n",
       "2       0          [web, email, mobile]           0         4  informational   \n",
       "3       5          [web, email, mobile]           5         7           bogo   \n",
       "4       5                  [web, email]          20        10       discount   \n",
       "5       3  [web, email, mobile, social]           7         7       discount   \n",
       "6       2  [web, email, mobile, social]          10        10       discount   \n",
       "7       0       [email, mobile, social]           0         3  informational   \n",
       "8       5  [web, email, mobile, social]           5         5           bogo   \n",
       "9       2          [web, email, mobile]          10         7       discount   \n",
       "\n",
       "                                 id  \n",
       "0  ae264e3637204a6fb9bb56bc8210ddfd  \n",
       "1  4d5c57ea9a6940dd891ad53e9dbe8da0  \n",
       "2  3f207df678b143eea3cee63160fa8bed  \n",
       "3  9b98b8c7a33c4b65b9aebfe6a799e6d9  \n",
       "4  0b1e1539f2cc45b7b9fa7c272da2e1d7  \n",
       "5  2298d6c36e964ae4a3e7e9706d1fb8c2  \n",
       "6  fafdcd668e3743c1bb461111dcafc2a4  \n",
       "7  5a8bc65990b245e5a138643cd4eb9837  \n",
       "8  f19421c1d4aa40978ebb69ca19b0e20d  \n",
       "9  2906b810c7d4411798c6938adc9daaa5  "
      ]
     },
     "execution_count": 11,
     "metadata": {},
     "output_type": "execute_result"
    }
   ],
   "source": [
    "portfolio"
   ]
  },
  {
   "cell_type": "code",
   "execution_count": 12,
   "id": "6180cf6b-92d2-48d8-ab40-5b27df19f584",
   "metadata": {},
   "outputs": [
    {
     "name": "stdout",
     "output_type": "stream",
     "text": [
      "Number of rows: 10\n",
      "Number of columns: 6\n"
     ]
    }
   ],
   "source": [
    "print(f'Number of rows: {portfolio.shape[0]}')\n",
    "print(f'Number of columns: {portfolio.shape[1]}')"
   ]
  },
  {
   "cell_type": "markdown",
   "id": "6fb9c237-6254-47ed-a082-3ce851d0184d",
   "metadata": {},
   "source": [
    "### 2.1.1. Transform Columns"
   ]
  },
  {
   "cell_type": "code",
   "execution_count": 13,
   "id": "e7092456-e9be-4e74-98d4-3a2b190da11e",
   "metadata": {},
   "outputs": [],
   "source": [
    "def clean_channels(list_channels, portfolio=portfolio):\n",
    "    \"\"\"\n",
    "    \"\"\"\n",
    "    df = portfolio\n",
    "    \n",
    "    for channel in list_channels:\n",
    "        channel_name = f'c_{channel}'\n",
    "        df[channel_name] = [1 if channel in row['channels'] else 0 for index, row in df.iterrows()]\n",
    "    df = df.drop('channels', axis=1)\n",
    "    \n",
    "    return df"
   ]
  },
  {
   "cell_type": "code",
   "execution_count": 14,
   "id": "a26f7f3c-917e-4717-9919-163daf9df4f7",
   "metadata": {},
   "outputs": [],
   "source": [
    "# Listing available channels\n",
    "list_channels = ['web', 'email', 'mobile', 'social']\n",
    "\n",
    "df_portfolio = clean_channels(list_channels)"
   ]
  },
  {
   "cell_type": "markdown",
   "id": "7200700a-69f6-4959-9edc-aa7d9948f51f",
   "metadata": {},
   "source": [
    "### 2.1.2. Na Values"
   ]
  },
  {
   "cell_type": "code",
   "execution_count": 15,
   "id": "4f5cd5b0-c431-4656-b1ac-33043284115e",
   "metadata": {},
   "outputs": [
    {
     "data": {
      "text/plain": [
       "reward        0\n",
       "difficulty    0\n",
       "duration      0\n",
       "offer_type    0\n",
       "id            0\n",
       "c_web         0\n",
       "c_email       0\n",
       "c_mobile      0\n",
       "c_social      0\n",
       "dtype: int64"
      ]
     },
     "execution_count": 15,
     "metadata": {},
     "output_type": "execute_result"
    }
   ],
   "source": [
    "df_portfolio.isnull().sum()"
   ]
  },
  {
   "cell_type": "markdown",
   "id": "f05d6f91-9e58-4ef7-8bc8-9214fa0069d1",
   "metadata": {},
   "source": [
    "### 2.1.3. Dtypes"
   ]
  },
  {
   "cell_type": "code",
   "execution_count": 16,
   "id": "71e5b42a-09f0-43b9-a530-243dd342255b",
   "metadata": {},
   "outputs": [
    {
     "data": {
      "text/plain": [
       "reward         int64\n",
       "difficulty     int64\n",
       "duration       int64\n",
       "offer_type    object\n",
       "id            object\n",
       "c_web          int64\n",
       "c_email        int64\n",
       "c_mobile       int64\n",
       "c_social       int64\n",
       "dtype: object"
      ]
     },
     "execution_count": 16,
     "metadata": {},
     "output_type": "execute_result"
    }
   ],
   "source": [
    "df_portfolio.dtypes"
   ]
  },
  {
   "cell_type": "markdown",
   "id": "1370e292-a1d8-4d01-83c5-582f804fc5c5",
   "metadata": {},
   "source": [
    "## 2.2. Profile"
   ]
  },
  {
   "cell_type": "code",
   "execution_count": 17,
   "id": "5c1273b4-8815-4acc-a56e-10593acaded0",
   "metadata": {},
   "outputs": [
    {
     "data": {
      "text/html": [
       "<div>\n",
       "<style scoped>\n",
       "    .dataframe tbody tr th:only-of-type {\n",
       "        vertical-align: middle;\n",
       "    }\n",
       "\n",
       "    .dataframe tbody tr th {\n",
       "        vertical-align: top;\n",
       "    }\n",
       "\n",
       "    .dataframe thead th {\n",
       "        text-align: right;\n",
       "    }\n",
       "</style>\n",
       "<table border=\"1\" class=\"dataframe\">\n",
       "  <thead>\n",
       "    <tr style=\"text-align: right;\">\n",
       "      <th></th>\n",
       "      <th>gender</th>\n",
       "      <th>age</th>\n",
       "      <th>id</th>\n",
       "      <th>became_member_on</th>\n",
       "      <th>income</th>\n",
       "    </tr>\n",
       "  </thead>\n",
       "  <tbody>\n",
       "    <tr>\n",
       "      <th>0</th>\n",
       "      <td>None</td>\n",
       "      <td>118</td>\n",
       "      <td>68be06ca386d4c31939f3a4f0e3dd783</td>\n",
       "      <td>20170212</td>\n",
       "      <td>NaN</td>\n",
       "    </tr>\n",
       "    <tr>\n",
       "      <th>1</th>\n",
       "      <td>F</td>\n",
       "      <td>55</td>\n",
       "      <td>0610b486422d4921ae7d2bf64640c50b</td>\n",
       "      <td>20170715</td>\n",
       "      <td>112000.0</td>\n",
       "    </tr>\n",
       "    <tr>\n",
       "      <th>2</th>\n",
       "      <td>None</td>\n",
       "      <td>118</td>\n",
       "      <td>38fe809add3b4fcf9315a9694bb96ff5</td>\n",
       "      <td>20180712</td>\n",
       "      <td>NaN</td>\n",
       "    </tr>\n",
       "    <tr>\n",
       "      <th>3</th>\n",
       "      <td>F</td>\n",
       "      <td>75</td>\n",
       "      <td>78afa995795e4d85b5d9ceeca43f5fef</td>\n",
       "      <td>20170509</td>\n",
       "      <td>100000.0</td>\n",
       "    </tr>\n",
       "    <tr>\n",
       "      <th>4</th>\n",
       "      <td>None</td>\n",
       "      <td>118</td>\n",
       "      <td>a03223e636434f42ac4c3df47e8bac43</td>\n",
       "      <td>20170804</td>\n",
       "      <td>NaN</td>\n",
       "    </tr>\n",
       "  </tbody>\n",
       "</table>\n",
       "</div>"
      ],
      "text/plain": [
       "  gender  age                                id  became_member_on    income\n",
       "0   None  118  68be06ca386d4c31939f3a4f0e3dd783          20170212       NaN\n",
       "1      F   55  0610b486422d4921ae7d2bf64640c50b          20170715  112000.0\n",
       "2   None  118  38fe809add3b4fcf9315a9694bb96ff5          20180712       NaN\n",
       "3      F   75  78afa995795e4d85b5d9ceeca43f5fef          20170509  100000.0\n",
       "4   None  118  a03223e636434f42ac4c3df47e8bac43          20170804       NaN"
      ]
     },
     "execution_count": 17,
     "metadata": {},
     "output_type": "execute_result"
    }
   ],
   "source": [
    "df_profile = profile.copy()\n",
    "df_profile.head()"
   ]
  },
  {
   "cell_type": "code",
   "execution_count": 18,
   "id": "c4984ece-89c6-4673-b9de-740008948d63",
   "metadata": {},
   "outputs": [
    {
     "name": "stdout",
     "output_type": "stream",
     "text": [
      "Number of rows: 17000\n",
      "Number of columns: 5\n"
     ]
    }
   ],
   "source": [
    "print(f'Number of rows: {df_profile.shape[0]}')\n",
    "print(f'Number of columns: {df_profile.shape[1]}')"
   ]
  },
  {
   "cell_type": "markdown",
   "id": "740deaf1-826d-4b69-9350-f319fb2dc482",
   "metadata": {},
   "source": [
    "### 2.2.1. Transform Columns"
   ]
  },
  {
   "cell_type": "code",
   "execution_count": 19,
   "id": "87db22df-ad49-403e-aa1b-97ffbc24b452",
   "metadata": {},
   "outputs": [],
   "source": [
    "# Transform date column\n",
    "df_profile['became_member_on'] = pd.to_datetime(df_profile['became_member_on'], format='%Y%m%d')"
   ]
  },
  {
   "cell_type": "markdown",
   "id": "7af6c959-e4d2-4706-beef-d118d162144b",
   "metadata": {},
   "source": [
    "### 2.2.2. Na Values"
   ]
  },
  {
   "cell_type": "code",
   "execution_count": 20,
   "id": "1ad76cd0-4cc6-4db9-acdb-dc0b8a44c77a",
   "metadata": {},
   "outputs": [
    {
     "data": {
      "text/plain": [
       "gender              12.79\n",
       "age                  0.00\n",
       "id                   0.00\n",
       "became_member_on     0.00\n",
       "income              12.79\n",
       "dtype: float64"
      ]
     },
     "execution_count": 20,
     "metadata": {},
     "output_type": "execute_result"
    }
   ],
   "source": [
    "round((df_profile.isnull().sum() / df_profile.shape[0]) * 100, 2)"
   ]
  },
  {
   "cell_type": "code",
   "execution_count": 21,
   "id": "c3bb736f-9779-4203-ba0f-d044c442d7ba",
   "metadata": {},
   "outputs": [
    {
     "data": {
      "text/plain": [
       "<AxesSubplot:>"
      ]
     },
     "execution_count": 21,
     "metadata": {},
     "output_type": "execute_result"
    },
    {
     "data": {
      "image/png": "[encoded data removed]",
      "text/plain": [
       "<Figure size 1800x720 with 2 Axes>"
      ]
     },
     "metadata": {},
     "output_type": "display_data"
    }
   ],
   "source": [
    "msno.matrix(df_profile)"
   ]
  },
  {
   "cell_type": "markdown",
   "id": "f448093f-61be-4f94-a77b-ef8f9390b928",
   "metadata": {},
   "source": [
    "#### Age \n",
    "All age values = 118 are from null profile values"
   ]
  },
  {
   "cell_type": "code",
   "execution_count": 27,
   "id": "eee3087c-0664-4dff-a504-406cfd7cae46",
   "metadata": {},
   "outputs": [
    {
     "data": {
      "text/plain": [
       "<AxesSubplot:>"
      ]
     },
     "execution_count": 27,
     "metadata": {},
     "output_type": "execute_result"
    },
    {
     "data": {
      "image/png": "[encoded data removed]",
      "text/plain": [
       "<Figure size 1800x864 with 2 Axes>"
      ]
     },
     "metadata": {},
     "output_type": "display_data"
    }
   ],
   "source": [
    "grid = plt.GridSpec(2, 1)\n",
    "\n",
    "plt.subplot(grid[0, 0])\n",
    "df_profile['age'].hist(bins=100)\n",
    "\n",
    "plt.subplot(grid[1, 0])\n",
    "sns.boxplot(data=df_profile['age'], orient='h')"
   ]
  },
  {
   "cell_type": "code",
   "execution_count": 28,
   "id": "091c7ea8-b208-4b76-9846-2e21bd59ff8a",
   "metadata": {},
   "outputs": [],
   "source": [
    "df_profile.loc[df_profile['age'] == 118, 'age'] = np.nan"
   ]
  },
  {
   "cell_type": "markdown",
   "id": "a0583147-ace3-4d16-9180-2a0d87686c5c",
   "metadata": {},
   "source": [
    "#### Gender\n",
    "Only categorical data will be treated at that time. Continuous data will be handled during the model to avoid data leakage.\n",
    "Missing data will be replaced by **unknown**."
   ]
  },
  {
   "cell_type": "code",
   "execution_count": 29,
   "id": "df3b3380-0d12-4fd6-bf01-c13631ff38a1",
   "metadata": {},
   "outputs": [],
   "source": [
    "df_profile['gender'] = df_profile['gender'].fillna('unknown')"
   ]
  },
  {
   "cell_type": "markdown",
   "id": "e8cb4d5d-c0fa-415f-a94e-430b719a53c1",
   "metadata": {},
   "source": [
    "### 2.2.3. dtypes"
   ]
  },
  {
   "cell_type": "code",
   "execution_count": 30,
   "id": "02a35785-aa37-4854-ac3f-e97fa3e2d872",
   "metadata": {},
   "outputs": [
    {
     "data": {
      "text/plain": [
       "gender                      object\n",
       "age                        float64\n",
       "id                          object\n",
       "became_member_on    datetime64[ns]\n",
       "income                     float64\n",
       "dtype: object"
      ]
     },
     "execution_count": 30,
     "metadata": {},
     "output_type": "execute_result"
    }
   ],
   "source": [
    "df_profile.dtypes"
   ]
  },
  {
   "cell_type": "markdown",
   "id": "0b86c4f1-db87-4130-9571-6fcc03d54824",
   "metadata": {},
   "source": [
    "## 2.3. Transcript"
   ]
  },
  {
   "cell_type": "code",
   "execution_count": 33,
   "id": "a92a1d73-2a03-4bca-8a05-dde39f25f1b9",
   "metadata": {},
   "outputs": [
    {
     "data": {
      "text/html": [
       "<div>\n",
       "<style scoped>\n",
       "    .dataframe tbody tr th:only-of-type {\n",
       "        vertical-align: middle;\n",
       "    }\n",
       "\n",
       "    .dataframe tbody tr th {\n",
       "        vertical-align: top;\n",
       "    }\n",
       "\n",
       "    .dataframe thead th {\n",
       "        text-align: right;\n",
       "    }\n",
       "</style>\n",
       "<table border=\"1\" class=\"dataframe\">\n",
       "  <thead>\n",
       "    <tr style=\"text-align: right;\">\n",
       "      <th></th>\n",
       "      <th>person</th>\n",
       "      <th>event</th>\n",
       "      <th>value</th>\n",
       "      <th>time</th>\n",
       "    </tr>\n",
       "  </thead>\n",
       "  <tbody>\n",
       "    <tr>\n",
       "      <th>0</th>\n",
       "      <td>78afa995795e4d85b5d9ceeca43f5fef</td>\n",
       "      <td>offer received</td>\n",
       "      <td>{'offer id': '9b98b8c7a33c4b65b9aebfe6a799e6d9'}</td>\n",
       "      <td>0</td>\n",
       "    </tr>\n",
       "    <tr>\n",
       "      <th>1</th>\n",
       "      <td>a03223e636434f42ac4c3df47e8bac43</td>\n",
       "      <td>offer received</td>\n",
       "      <td>{'offer id': '0b1e1539f2cc45b7b9fa7c272da2e1d7'}</td>\n",
       "      <td>0</td>\n",
       "    </tr>\n",
       "    <tr>\n",
       "      <th>2</th>\n",
       "      <td>e2127556f4f64592b11af22de27a7932</td>\n",
       "      <td>offer received</td>\n",
       "      <td>{'offer id': '2906b810c7d4411798c6938adc9daaa5'}</td>\n",
       "      <td>0</td>\n",
       "    </tr>\n",
       "    <tr>\n",
       "      <th>3</th>\n",
       "      <td>8ec6ce2a7e7949b1bf142def7d0e0586</td>\n",
       "      <td>offer received</td>\n",
       "      <td>{'offer id': 'fafdcd668e3743c1bb461111dcafc2a4'}</td>\n",
       "      <td>0</td>\n",
       "    </tr>\n",
       "    <tr>\n",
       "      <th>4</th>\n",
       "      <td>68617ca6246f4fbc85e91a2a49552598</td>\n",
       "      <td>offer received</td>\n",
       "      <td>{'offer id': '4d5c57ea9a6940dd891ad53e9dbe8da0'}</td>\n",
       "      <td>0</td>\n",
       "    </tr>\n",
       "  </tbody>\n",
       "</table>\n",
       "</div>"
      ],
      "text/plain": [
       "                             person           event  \\\n",
       "0  78afa995795e4d85b5d9ceeca43f5fef  offer received   \n",
       "1  a03223e636434f42ac4c3df47e8bac43  offer received   \n",
       "2  e2127556f4f64592b11af22de27a7932  offer received   \n",
       "3  8ec6ce2a7e7949b1bf142def7d0e0586  offer received   \n",
       "4  68617ca6246f4fbc85e91a2a49552598  offer received   \n",
       "\n",
       "                                              value  time  \n",
       "0  {'offer id': '9b98b8c7a33c4b65b9aebfe6a799e6d9'}     0  \n",
       "1  {'offer id': '0b1e1539f2cc45b7b9fa7c272da2e1d7'}     0  \n",
       "2  {'offer id': '2906b810c7d4411798c6938adc9daaa5'}     0  \n",
       "3  {'offer id': 'fafdcd668e3743c1bb461111dcafc2a4'}     0  \n",
       "4  {'offer id': '4d5c57ea9a6940dd891ad53e9dbe8da0'}     0  "
      ]
     },
     "execution_count": 33,
     "metadata": {},
     "output_type": "execute_result"
    }
   ],
   "source": [
    "df_transcript = transcript.copy()\n",
    "df_transcript.head()"
   ]
  },
  {
   "cell_type": "code",
   "execution_count": 34,
   "id": "161a024a-0d9a-43ee-895c-cf1b9a121700",
   "metadata": {},
   "outputs": [
    {
     "name": "stdout",
     "output_type": "stream",
     "text": [
      "Number of rows: 306534\n",
      "Number of columns: 4\n"
     ]
    }
   ],
   "source": [
    "print(f'Number of rows: {df_transcript.shape[0]}')\n",
    "print(f'Number of columns: {df_transcript.shape[1]}')"
   ]
  },
  {
   "cell_type": "markdown",
   "id": "53178603-5f15-44c4-b94d-f3abd541ba97",
   "metadata": {},
   "source": [
    "### 2.3.1. Transform Columns "
   ]
  },
  {
   "cell_type": "code",
   "execution_count": 35,
   "id": "419941f7-af58-47ef-912f-116742690e56",
   "metadata": {},
   "outputs": [],
   "source": [
    "clean_value = (\n",
    "    lambda x: str(x.values())\n",
    "    .split('[')[1] #split per \"[\" and get second value\n",
    "    .split(']')[0] #split per \"]\" and get first value\n",
    "    .split(',')[0] #split per \",\" and get first value\n",
    "    .strip(\"'\") #taking \"'\" from values\n",
    ") \n",
    "\n",
    "aux = df_transcript['value'].apply(clean_value)\n",
    "\n",
    "df_transcript = transcript.assign(value=aux)\n",
    "\n",
    "df_transcript = df_transcript.assign(code=df_transcript['value']).reset_index(drop=True)\n",
    "\n",
    "df_transcript['value'] = df_transcript['value'].apply(lambda x: None if '.' not in x else x).astype('float')"
   ]
  },
  {
   "cell_type": "code",
   "execution_count": 36,
   "id": "f7579943-43ed-44f4-b931-3d09a3f00b81",
   "metadata": {},
   "outputs": [],
   "source": [
    "join_portfolio = df_portfolio.loc[:, ['id', 'offer_type', 'duration']]"
   ]
  },
  {
   "cell_type": "code",
   "execution_count": 37,
   "id": "367d495d-118f-4149-af24-172441ff0540",
   "metadata": {},
   "outputs": [],
   "source": [
    "df_transcript = pd.merge(df_transcript, join_portfolio, left_on='code', right_on='id', how='outer').drop('id', axis=1)\n",
    "\n",
    "# Ordering by person and time\n",
    "df_transcript = df_transcript.sort_values(['person', 'time'])\n",
    "\n",
    "# clean code\n",
    "df_transcript['code'] = df_transcript['code'].apply(lambda x: None if '.' in x else x)"
   ]
  },
  {
   "cell_type": "code",
   "execution_count": 38,
   "id": "cc36b4eb-deab-41bc-8cbd-da0a18b151ed",
   "metadata": {},
   "outputs": [],
   "source": [
    "df_transcript['duration'] = df_transcript.loc[df_transcript['event'] == 'offer received', 'duration'] * 24"
   ]
  },
  {
   "cell_type": "code",
   "execution_count": 39,
   "id": "87de3b06-8a71-476d-9f16-3d5ed91d9b6b",
   "metadata": {},
   "outputs": [
    {
     "data": {
      "text/html": [
       "<div>\n",
       "<style scoped>\n",
       "    .dataframe tbody tr th:only-of-type {\n",
       "        vertical-align: middle;\n",
       "    }\n",
       "\n",
       "    .dataframe tbody tr th {\n",
       "        vertical-align: top;\n",
       "    }\n",
       "\n",
       "    .dataframe thead th {\n",
       "        text-align: right;\n",
       "    }\n",
       "</style>\n",
       "<table border=\"1\" class=\"dataframe\">\n",
       "  <thead>\n",
       "    <tr style=\"text-align: right;\">\n",
       "      <th></th>\n",
       "      <th>person</th>\n",
       "      <th>event</th>\n",
       "      <th>value</th>\n",
       "      <th>time</th>\n",
       "      <th>code</th>\n",
       "      <th>offer_type</th>\n",
       "      <th>duration</th>\n",
       "    </tr>\n",
       "  </thead>\n",
       "  <tbody>\n",
       "    <tr>\n",
       "      <th>155971</th>\n",
       "      <td>0009655768c64bdeb2e877511632db8f</td>\n",
       "      <td>offer received</td>\n",
       "      <td>NaN</td>\n",
       "      <td>168</td>\n",
       "      <td>5a8bc65990b245e5a138643cd4eb9837</td>\n",
       "      <td>informational</td>\n",
       "      <td>72.0</td>\n",
       "    </tr>\n",
       "    <tr>\n",
       "      <th>157631</th>\n",
       "      <td>0009655768c64bdeb2e877511632db8f</td>\n",
       "      <td>offer viewed</td>\n",
       "      <td>NaN</td>\n",
       "      <td>192</td>\n",
       "      <td>5a8bc65990b245e5a138643cd4eb9837</td>\n",
       "      <td>informational</td>\n",
       "      <td>NaN</td>\n",
       "    </tr>\n",
       "    <tr>\n",
       "      <th>269631</th>\n",
       "      <td>0009655768c64bdeb2e877511632db8f</td>\n",
       "      <td>transaction</td>\n",
       "      <td>22.16</td>\n",
       "      <td>228</td>\n",
       "      <td>None</td>\n",
       "      <td>NaN</td>\n",
       "      <td>NaN</td>\n",
       "    </tr>\n",
       "    <tr>\n",
       "      <th>127775</th>\n",
       "      <td>0009655768c64bdeb2e877511632db8f</td>\n",
       "      <td>offer received</td>\n",
       "      <td>NaN</td>\n",
       "      <td>336</td>\n",
       "      <td>3f207df678b143eea3cee63160fa8bed</td>\n",
       "      <td>informational</td>\n",
       "      <td>96.0</td>\n",
       "    </tr>\n",
       "    <tr>\n",
       "      <th>129199</th>\n",
       "      <td>0009655768c64bdeb2e877511632db8f</td>\n",
       "      <td>offer viewed</td>\n",
       "      <td>NaN</td>\n",
       "      <td>372</td>\n",
       "      <td>3f207df678b143eea3cee63160fa8bed</td>\n",
       "      <td>informational</td>\n",
       "      <td>NaN</td>\n",
       "    </tr>\n",
       "  </tbody>\n",
       "</table>\n",
       "</div>"
      ],
      "text/plain": [
       "                                  person           event  value  time  \\\n",
       "155971  0009655768c64bdeb2e877511632db8f  offer received    NaN   168   \n",
       "157631  0009655768c64bdeb2e877511632db8f    offer viewed    NaN   192   \n",
       "269631  0009655768c64bdeb2e877511632db8f     transaction  22.16   228   \n",
       "127775  0009655768c64bdeb2e877511632db8f  offer received    NaN   336   \n",
       "129199  0009655768c64bdeb2e877511632db8f    offer viewed    NaN   372   \n",
       "\n",
       "                                    code     offer_type  duration  \n",
       "155971  5a8bc65990b245e5a138643cd4eb9837  informational      72.0  \n",
       "157631  5a8bc65990b245e5a138643cd4eb9837  informational       NaN  \n",
       "269631                              None            NaN       NaN  \n",
       "127775  3f207df678b143eea3cee63160fa8bed  informational      96.0  \n",
       "129199  3f207df678b143eea3cee63160fa8bed  informational       NaN  "
      ]
     },
     "execution_count": 39,
     "metadata": {},
     "output_type": "execute_result"
    }
   ],
   "source": [
    "df_transcript.head()"
   ]
  },
  {
   "cell_type": "markdown",
   "id": "710d4908-fffd-48b8-95a1-225f51eee51f",
   "metadata": {},
   "source": [
    "### 2.3.2. Na Values"
   ]
  },
  {
   "cell_type": "code",
   "execution_count": 40,
   "id": "dd80c6e1-d999-42ee-a197-b42978da1e4f",
   "metadata": {},
   "outputs": [
    {
     "data": {
      "text/plain": [
       "person        0.000000\n",
       "event         0.000000\n",
       "value         0.546696\n",
       "time          0.000000\n",
       "code          0.453304\n",
       "offer_type    0.453304\n",
       "duration      0.751163\n",
       "dtype: float64"
      ]
     },
     "execution_count": 40,
     "metadata": {},
     "output_type": "execute_result"
    }
   ],
   "source": [
    "df_transcript.isnull().sum() / len(df_transcript)"
   ]
  },
  {
   "cell_type": "markdown",
   "id": "d2593916-da55-40aa-81a0-5c9d279585c7",
   "metadata": {},
   "source": [
    "### 2.3.3. dtypes"
   ]
  },
  {
   "cell_type": "code",
   "execution_count": 41,
   "id": "402b81e8-82fa-40bf-ac27-67094da6f79b",
   "metadata": {},
   "outputs": [
    {
     "data": {
      "text/plain": [
       "person         object\n",
       "event          object\n",
       "value         float64\n",
       "time            int64\n",
       "code           object\n",
       "offer_type     object\n",
       "duration      float64\n",
       "dtype: object"
      ]
     },
     "execution_count": 41,
     "metadata": {},
     "output_type": "execute_result"
    }
   ],
   "source": [
    "df_transcript.dtypes"
   ]
  },
  {
   "cell_type": "markdown",
   "id": "811fc1a2-31a2-4abb-aaed-05621576be8e",
   "metadata": {},
   "source": [
    "# 3.0. Feature Engineering"
   ]
  },
  {
   "cell_type": "code",
   "execution_count": 42,
   "id": "fa291adb-55d4-45cb-a8bb-78b6168d0407",
   "metadata": {},
   "outputs": [],
   "source": [
    "aux_transcript = df_transcript.loc[df_transcript['offer_type'] != 'informational']"
   ]
  },
  {
   "cell_type": "code",
   "execution_count": 43,
   "id": "9c5851f7-ffaf-4697-b18c-70bb46e7876b",
   "metadata": {},
   "outputs": [],
   "source": [
    "def pivot_transactions(df):\n",
    "    \"\"\"\n",
    "    \"\"\"\n",
    "    df = df.loc[\n",
    "        (df['event'] == 'offer received')\n",
    "        | (df['event'] == 'offer completed')\n",
    "        | (df['event'] == 'offer viewed')\n",
    "        , ['person', 'code', 'event']\n",
    "    ]\n",
    "\n",
    "    df['counter'] = 1\n",
    "    \n",
    "    aux = df.pivot_table(values='counter', index=['person', 'code'], \n",
    "                         columns='event', aggfunc=sum).reset_index()\n",
    "    aux.columns = ['person', 'code', 'offer_completed', \n",
    "                   'offer_received', 'offer_viewed']\n",
    "    \n",
    "    aux.fillna(0, inplace=True)\n",
    "\n",
    "    aux['offer_completed'] = aux['offer_completed'].astype(int)\n",
    "    aux['offer_received'] = aux['offer_received'].astype(int)\n",
    "    aux['offer_viewed'] = aux['offer_viewed'].astype(int)\n",
    "    \n",
    "    c = 0\n",
    "    aux_2 = aux.loc[aux['offer_received'] > 1]\n",
    "\n",
    "    dict_rows = {}\n",
    "    for index, row in aux_2.iterrows():\n",
    "        num_rec = row['offer_received']\n",
    "        for count in range(1, num_rec):\n",
    "            c += 1\n",
    "            dict_rows[c] = [row['person'], row['code'], \n",
    "                            row['offer_completed'] - count,\n",
    "                            row['offer_received'],\n",
    "                            row['offer_viewed'] - count]\n",
    "            \n",
    "    append_rows = pd.DataFrame(dict_rows).T\n",
    "    append_rows.columns = ['person', 'code', 'offer_completed', 'offer_received', 'offer_viewed']\n",
    "    \n",
    "    aux = pd.concat([aux, append_rows])\n",
    "    \n",
    "    list_columns = ['offer_completed', 'offer_received', 'offer_viewed']\n",
    "    for column in list_columns:\n",
    "        aux[column] = aux[column].apply(lambda x: 0 if x <= 0 else 1)\n",
    "        \n",
    "    return aux.sort_values(by=['person', 'code'])"
   ]
  },
  {
   "cell_type": "markdown",
   "id": "2f68b3d9-2b4e-4199-bdae-a7a8d358d0f9",
   "metadata": {},
   "source": [
    "## 3.1. Join"
   ]
  },
  {
   "cell_type": "code",
   "execution_count": 44,
   "id": "025de11b-d05b-4689-a00c-9ced94eb07d3",
   "metadata": {},
   "outputs": [],
   "source": [
    "df = pivot_transactions(aux_transcript)"
   ]
  },
  {
   "cell_type": "code",
   "execution_count": 45,
   "id": "f22939c4-4257-4b51-97e9-e8e6bf0c4aec",
   "metadata": {},
   "outputs": [],
   "source": [
    "df = pd.merge(df, df_profile, left_on='person', right_on='id')\n",
    "df = pd.merge(df, df_portfolio, left_on='code', right_on='id')"
   ]
  },
  {
   "cell_type": "code",
   "execution_count": 46,
   "id": "2fd05aed-35d8-4e78-bb6b-700d9771ee13",
   "metadata": {},
   "outputs": [],
   "source": [
    "df = df[['person', 'age', 'gender', 'income', 'became_member_on',\n",
    "         'code', 'offer_type', 'reward', 'duration', 'difficulty', \n",
    "         'c_web', 'c_email', 'c_mobile', 'c_social', 'offer_received', \n",
    "         'offer_viewed', 'offer_completed']]"
   ]
  },
  {
   "cell_type": "markdown",
   "id": "b54f52a2-cd8c-4301-b8aa-9ba5be048cc6",
   "metadata": {},
   "source": [
    "## 3.3. Missing Data\n",
    "Null values ​​are the result of entries without information in the profile. I will create a new column that determines if the value is null or not"
   ]
  },
  {
   "cell_type": "code",
   "execution_count": 47,
   "id": "97a9a8b1-974e-4cb2-99b7-5e05f5a6e395",
   "metadata": {},
   "outputs": [],
   "source": [
    "df['missing_profile'] = df['income'].apply(lambda x: 1 if pd.isnull(x) else 0)"
   ]
  },
  {
   "cell_type": "markdown",
   "id": "06ca84fb-06d3-401b-9dbc-39b3226b8eb8",
   "metadata": {},
   "source": [
    "## 3.4. Response Variable - Completed offer consciously\n",
    "Not all completed offers are made knowingly. Completed unseen offers should not be considered a success."
   ]
  },
  {
   "cell_type": "code",
   "execution_count": 48,
   "id": "f5a04791-cf86-4cbe-bd66-5dc621a178d5",
   "metadata": {},
   "outputs": [],
   "source": [
    "df['consciously_complete'] = [1 if (row['offer_viewed'] == 1 & row['offer_completed'] == 1) else 0\n",
    "                             for index, row in df.iterrows()]"
   ]
  },
  {
   "cell_type": "markdown",
   "id": "36ef0199-120c-4e21-91fa-8dbf5b561489",
   "metadata": {},
   "source": [
    "# 4.0. Exploratory Data Analysis"
   ]
  },
  {
   "cell_type": "code",
   "execution_count": 49,
   "id": "36d98a67-8df9-4509-b500-d1ce85459fbb",
   "metadata": {},
   "outputs": [],
   "source": [
    "df4 = df.copy()"
   ]
  },
  {
   "cell_type": "markdown",
   "id": "3e10df9c-7abe-457e-807c-60310863855e",
   "metadata": {},
   "source": [
    "## 4.1. Univariate Analysis"
   ]
  },
  {
   "cell_type": "markdown",
   "id": "ce43783c-a36e-447a-a92c-69409c0a71e4",
   "metadata": {},
   "source": [
    "### 4.1.1. Numerical Variables"
   ]
  },
  {
   "cell_type": "markdown",
   "id": "a354141b-adf6-480d-a7a1-16822c3d0cde",
   "metadata": {},
   "source": [
    "#### Profile"
   ]
  },
  {
   "cell_type": "code",
   "execution_count": 50,
   "id": "4a27c550-fe6b-4cb2-bc9d-2e6383f6f51c",
   "metadata": {},
   "outputs": [
    {
     "data": {
      "image/png": "[encoded data removed]",
      "text/plain": [
       "<Figure size 1800x864 with 4 Axes>"
      ]
     },
     "metadata": {},
     "output_type": "display_data"
    }
   ],
   "source": [
    "df_profile.hist(bins=50);"
   ]
  },
  {
   "cell_type": "code",
   "execution_count": 51,
   "id": "37994b17-a386-40c1-9cf1-ea987ff98e71",
   "metadata": {},
   "outputs": [
    {
     "data": {
      "text/html": [
       "<div>\n",
       "<style scoped>\n",
       "    .dataframe tbody tr th:only-of-type {\n",
       "        vertical-align: middle;\n",
       "    }\n",
       "\n",
       "    .dataframe tbody tr th {\n",
       "        vertical-align: top;\n",
       "    }\n",
       "\n",
       "    .dataframe thead th {\n",
       "        text-align: right;\n",
       "    }\n",
       "</style>\n",
       "<table border=\"1\" class=\"dataframe\">\n",
       "  <thead>\n",
       "    <tr style=\"text-align: right;\">\n",
       "      <th></th>\n",
       "      <th>age</th>\n",
       "      <th>income</th>\n",
       "    </tr>\n",
       "  </thead>\n",
       "  <tbody>\n",
       "    <tr>\n",
       "      <th>count</th>\n",
       "      <td>14825.000000</td>\n",
       "      <td>14825.000000</td>\n",
       "    </tr>\n",
       "    <tr>\n",
       "      <th>mean</th>\n",
       "      <td>54.393524</td>\n",
       "      <td>65404.991568</td>\n",
       "    </tr>\n",
       "    <tr>\n",
       "      <th>std</th>\n",
       "      <td>17.383705</td>\n",
       "      <td>21598.299410</td>\n",
       "    </tr>\n",
       "    <tr>\n",
       "      <th>min</th>\n",
       "      <td>18.000000</td>\n",
       "      <td>30000.000000</td>\n",
       "    </tr>\n",
       "    <tr>\n",
       "      <th>25%</th>\n",
       "      <td>42.000000</td>\n",
       "      <td>49000.000000</td>\n",
       "    </tr>\n",
       "    <tr>\n",
       "      <th>50%</th>\n",
       "      <td>55.000000</td>\n",
       "      <td>64000.000000</td>\n",
       "    </tr>\n",
       "    <tr>\n",
       "      <th>75%</th>\n",
       "      <td>66.000000</td>\n",
       "      <td>80000.000000</td>\n",
       "    </tr>\n",
       "    <tr>\n",
       "      <th>max</th>\n",
       "      <td>101.000000</td>\n",
       "      <td>120000.000000</td>\n",
       "    </tr>\n",
       "  </tbody>\n",
       "</table>\n",
       "</div>"
      ],
      "text/plain": [
       "                age         income\n",
       "count  14825.000000   14825.000000\n",
       "mean      54.393524   65404.991568\n",
       "std       17.383705   21598.299410\n",
       "min       18.000000   30000.000000\n",
       "25%       42.000000   49000.000000\n",
       "50%       55.000000   64000.000000\n",
       "75%       66.000000   80000.000000\n",
       "max      101.000000  120000.000000"
      ]
     },
     "execution_count": 51,
     "metadata": {},
     "output_type": "execute_result"
    }
   ],
   "source": [
    "df_profile.describe()"
   ]
  },
  {
   "cell_type": "markdown",
   "id": "28a6833b-fdef-48cb-9561-7ae424b717c7",
   "metadata": {},
   "source": [
    "#### Transaction"
   ]
  },
  {
   "cell_type": "code",
   "execution_count": 53,
   "id": "d8b6bddd-c9e4-4ae7-a69a-53732e9ca9de",
   "metadata": {},
   "outputs": [
    {
     "data": {
      "image/png": "[encoded data removed]",
      "text/plain": [
       "<Figure size 1800x864 with 12 Axes>"
      ]
     },
     "metadata": {},
     "output_type": "display_data"
    }
   ],
   "source": [
    "df4.drop(['age', 'income', 'became_member_on'], axis=1).hist(bins=50);"
   ]
  },
  {
   "cell_type": "code",
   "execution_count": 54,
   "id": "5c9a6a6d-3895-4c0c-ac11-b7c7bf34fb45",
   "metadata": {},
   "outputs": [
    {
     "data": {
      "text/html": [
       "<div>\n",
       "<style scoped>\n",
       "    .dataframe tbody tr th:only-of-type {\n",
       "        vertical-align: middle;\n",
       "    }\n",
       "\n",
       "    .dataframe tbody tr th {\n",
       "        vertical-align: top;\n",
       "    }\n",
       "\n",
       "    .dataframe thead th {\n",
       "        text-align: right;\n",
       "    }\n",
       "</style>\n",
       "<table border=\"1\" class=\"dataframe\">\n",
       "  <thead>\n",
       "    <tr style=\"text-align: right;\">\n",
       "      <th></th>\n",
       "      <th>reward</th>\n",
       "      <th>duration</th>\n",
       "      <th>difficulty</th>\n",
       "      <th>c_web</th>\n",
       "      <th>c_email</th>\n",
       "      <th>c_mobile</th>\n",
       "      <th>c_social</th>\n",
       "      <th>offer_received</th>\n",
       "      <th>offer_viewed</th>\n",
       "      <th>offer_completed</th>\n",
       "      <th>missing_profile</th>\n",
       "      <th>consciously_complete</th>\n",
       "    </tr>\n",
       "  </thead>\n",
       "  <tbody>\n",
       "    <tr>\n",
       "      <th>count</th>\n",
       "      <td>61042.000000</td>\n",
       "      <td>61042.000000</td>\n",
       "      <td>61042.000000</td>\n",
       "      <td>61042.000000</td>\n",
       "      <td>61042.0</td>\n",
       "      <td>61042.000000</td>\n",
       "      <td>61042.000000</td>\n",
       "      <td>61042.0</td>\n",
       "      <td>61042.000000</td>\n",
       "      <td>61042.000000</td>\n",
       "      <td>61042.000000</td>\n",
       "      <td>61042.000000</td>\n",
       "    </tr>\n",
       "    <tr>\n",
       "      <th>mean</th>\n",
       "      <td>5.250254</td>\n",
       "      <td>7.253383</td>\n",
       "      <td>9.631434</td>\n",
       "      <td>0.874545</td>\n",
       "      <td>1.0</td>\n",
       "      <td>0.874382</td>\n",
       "      <td>0.623587</td>\n",
       "      <td>1.0</td>\n",
       "      <td>0.768225</td>\n",
       "      <td>0.550097</td>\n",
       "      <td>0.128453</td>\n",
       "      <td>0.457881</td>\n",
       "    </tr>\n",
       "    <tr>\n",
       "      <th>std</th>\n",
       "      <td>2.988313</td>\n",
       "      <td>1.783308</td>\n",
       "      <td>4.449554</td>\n",
       "      <td>0.331236</td>\n",
       "      <td>0.0</td>\n",
       "      <td>0.331422</td>\n",
       "      <td>0.484490</td>\n",
       "      <td>0.0</td>\n",
       "      <td>0.421969</td>\n",
       "      <td>0.497488</td>\n",
       "      <td>0.334596</td>\n",
       "      <td>0.498227</td>\n",
       "    </tr>\n",
       "    <tr>\n",
       "      <th>min</th>\n",
       "      <td>2.000000</td>\n",
       "      <td>5.000000</td>\n",
       "      <td>5.000000</td>\n",
       "      <td>0.000000</td>\n",
       "      <td>1.0</td>\n",
       "      <td>0.000000</td>\n",
       "      <td>0.000000</td>\n",
       "      <td>1.0</td>\n",
       "      <td>0.000000</td>\n",
       "      <td>0.000000</td>\n",
       "      <td>0.000000</td>\n",
       "      <td>0.000000</td>\n",
       "    </tr>\n",
       "    <tr>\n",
       "      <th>25%</th>\n",
       "      <td>3.000000</td>\n",
       "      <td>7.000000</td>\n",
       "      <td>7.000000</td>\n",
       "      <td>1.000000</td>\n",
       "      <td>1.0</td>\n",
       "      <td>1.000000</td>\n",
       "      <td>0.000000</td>\n",
       "      <td>1.0</td>\n",
       "      <td>1.000000</td>\n",
       "      <td>0.000000</td>\n",
       "      <td>0.000000</td>\n",
       "      <td>0.000000</td>\n",
       "    </tr>\n",
       "    <tr>\n",
       "      <th>50%</th>\n",
       "      <td>5.000000</td>\n",
       "      <td>7.000000</td>\n",
       "      <td>10.000000</td>\n",
       "      <td>1.000000</td>\n",
       "      <td>1.0</td>\n",
       "      <td>1.000000</td>\n",
       "      <td>1.000000</td>\n",
       "      <td>1.0</td>\n",
       "      <td>1.000000</td>\n",
       "      <td>1.000000</td>\n",
       "      <td>0.000000</td>\n",
       "      <td>0.000000</td>\n",
       "    </tr>\n",
       "    <tr>\n",
       "      <th>75%</th>\n",
       "      <td>5.000000</td>\n",
       "      <td>10.000000</td>\n",
       "      <td>10.000000</td>\n",
       "      <td>1.000000</td>\n",
       "      <td>1.0</td>\n",
       "      <td>1.000000</td>\n",
       "      <td>1.000000</td>\n",
       "      <td>1.0</td>\n",
       "      <td>1.000000</td>\n",
       "      <td>1.000000</td>\n",
       "      <td>0.000000</td>\n",
       "      <td>1.000000</td>\n",
       "    </tr>\n",
       "    <tr>\n",
       "      <th>max</th>\n",
       "      <td>10.000000</td>\n",
       "      <td>10.000000</td>\n",
       "      <td>20.000000</td>\n",
       "      <td>1.000000</td>\n",
       "      <td>1.0</td>\n",
       "      <td>1.000000</td>\n",
       "      <td>1.000000</td>\n",
       "      <td>1.0</td>\n",
       "      <td>1.000000</td>\n",
       "      <td>1.000000</td>\n",
       "      <td>1.000000</td>\n",
       "      <td>1.000000</td>\n",
       "    </tr>\n",
       "  </tbody>\n",
       "</table>\n",
       "</div>"
      ],
      "text/plain": [
       "             reward      duration    difficulty         c_web  c_email  \\\n",
       "count  61042.000000  61042.000000  61042.000000  61042.000000  61042.0   \n",
       "mean       5.250254      7.253383      9.631434      0.874545      1.0   \n",
       "std        2.988313      1.783308      4.449554      0.331236      0.0   \n",
       "min        2.000000      5.000000      5.000000      0.000000      1.0   \n",
       "25%        3.000000      7.000000      7.000000      1.000000      1.0   \n",
       "50%        5.000000      7.000000     10.000000      1.000000      1.0   \n",
       "75%        5.000000     10.000000     10.000000      1.000000      1.0   \n",
       "max       10.000000     10.000000     20.000000      1.000000      1.0   \n",
       "\n",
       "           c_mobile      c_social  offer_received  offer_viewed  \\\n",
       "count  61042.000000  61042.000000         61042.0  61042.000000   \n",
       "mean       0.874382      0.623587             1.0      0.768225   \n",
       "std        0.331422      0.484490             0.0      0.421969   \n",
       "min        0.000000      0.000000             1.0      0.000000   \n",
       "25%        1.000000      0.000000             1.0      1.000000   \n",
       "50%        1.000000      1.000000             1.0      1.000000   \n",
       "75%        1.000000      1.000000             1.0      1.000000   \n",
       "max        1.000000      1.000000             1.0      1.000000   \n",
       "\n",
       "       offer_completed  missing_profile  consciously_complete  \n",
       "count     61042.000000     61042.000000          61042.000000  \n",
       "mean          0.550097         0.128453              0.457881  \n",
       "std           0.497488         0.334596              0.498227  \n",
       "min           0.000000         0.000000              0.000000  \n",
       "25%           0.000000         0.000000              0.000000  \n",
       "50%           1.000000         0.000000              0.000000  \n",
       "75%           1.000000         0.000000              1.000000  \n",
       "max           1.000000         1.000000              1.000000  "
      ]
     },
     "execution_count": 54,
     "metadata": {},
     "output_type": "execute_result"
    }
   ],
   "source": [
    "df4.drop(['age', 'income', 'became_member_on'], axis=1).describe()"
   ]
  },
  {
   "cell_type": "code",
   "execution_count": null,
   "id": "2d7e6c20-5b5d-4b2e-af95-ca7cfec9839d",
   "metadata": {},
   "outputs": [],
   "source": []
  }
 ],
 "metadata": {
  "kernelspec": {
   "display_name": "Python 3 (ipykernel)",
   "language": "python",
   "name": "python3"
  },
  "language_info": {
   "codemirror_mode": {
    "name": "ipython",
    "version": 3
   },
   "file_extension": ".py",
   "mimetype": "text/x-python",
   "name": "python",
   "nbconvert_exporter": "python",
   "pygments_lexer": "ipython3",
   "version": "3.7.9"
  }
 },
 "nbformat": 4,
 "nbformat_minor": 5
}
