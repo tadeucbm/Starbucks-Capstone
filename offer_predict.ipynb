{
 "cells": [
  {
   "cell_type": "markdown",
   "id": "eef69cec-7ceb-41de-a73f-bd2d2e5d5a52",
   "metadata": {},
   "source": [
    "# Starbucks Capstone Challenge\n",
    "\n",
    "### Introduction\n",
    "\n",
    "This data set contains simulated data that mimics customer behavior on the Starbucks rewards mobile app. Once every few days, Starbucks sends out an offer to users of the mobile app. An offer can be merely an advertisement for a drink or an actual offer such as a discount or BOGO (buy one get one free). Some users might not receive any offer during certain weeks. \n",
    "\n",
    "Not all users receive the same offer, and that is the challenge to solve with this data set.\n",
    "\n",
    "Your task is to combine transaction, demographic and offer data to determine which demographic groups respond best to which offer type. This data set is a simplified version of the real Starbucks app because the underlying simulator only has one product whereas Starbucks actually sells dozens of products.\n",
    "\n",
    "Every offer has a validity period before the offer expires. As an example, a BOGO offer might be valid for only 5 days. You'll see in the data set that informational offers have a validity period even though these ads are merely providing information about a product; for example, if an informational offer has 7 days of validity, you can assume the customer is feeling the influence of the offer for 7 days after receiving the advertisement.\n",
    "\n",
    "You'll be given transactional data showing user purchases made on the app including the timestamp of purchase and the amount of money spent on a purchase. This transactional data also has a record for each offer that a user receives as well as a record for when a user actually views the offer. There are also records for when a user completes an offer. \n",
    "\n",
    "Keep in mind as well that someone using the app might make a purchase through the app without having received an offer or seen an offer.\n",
    "\n",
    "### Example\n",
    "\n",
    "To give an example, a user could receive a discount offer buy 10 dollars get 2 off on Monday. The offer is valid for 10 days from receipt. If the customer accumulates at least 10 dollars in purchases during the validity period, the customer completes the offer.\n",
    "\n",
    "However, there are a few things to watch out for in this data set. Customers do not opt into the offers that they receive; in other words, a user can receive an offer, never actually view the offer, and still complete the offer. For example, a user might receive the \"buy 10 dollars get 2 dollars off offer\", but the user never opens the offer during the 10 day validity period. The customer spends 15 dollars during those ten days. There will be an offer completion record in the data set; however, the customer was not influenced by the offer because the customer never viewed the offer.\n",
    "\n",
    "### Cleaning\n",
    "\n",
    "This makes data cleaning especially important and tricky.\n",
    "\n",
    "You'll also want to take into account that some demographic groups will make purchases even if they don't receive an offer. From a business perspective, if a customer is going to make a 10 dollar purchase without an offer anyway, you wouldn't want to send a buy 10 dollars get 2 dollars off offer. You'll want to try to assess what a certain demographic group will buy when not receiving any offers.\n",
    "\n",
    "### Final Advice\n",
    "\n",
    "Because this is a capstone project, you are free to analyze the data any way you see fit. For example, you could build a machine learning model that predicts how much someone will spend based on demographics and offer type. Or you could build a model that predicts whether or not someone will respond to an offer. Or, you don't need to build a machine learning model at all. You could develop a set of heuristics that determine what offer you should send to each customer (i.e., 75 percent of women customers who were 35 years old responded to offer A vs 40 percent from the same demographic to offer B, so send offer A)."
   ]
  },
  {
   "cell_type": "markdown",
   "id": "58252473-132d-47ff-8765-e87f3cdf56db",
   "metadata": {},
   "source": [
    "# Data Sets\n",
    "\n",
    "The data is contained in three files:\n",
    "\n",
    "* portfolio.json - containing offer ids and meta data about each offer (duration, type, etc.)\n",
    "* profile.json - demographic data for each customer\n",
    "* transcript.json - records for transactions, offers received, offers viewed, and offers completed\n",
    "\n",
    "Here is the schema and explanation of each variable in the files:\n",
    "\n",
    "**portfolio.json**\n",
    "* id (string) - offer id\n",
    "* offer_type (string) - type of offer ie BOGO, discount, informational\n",
    "* difficulty (int) - minimum required spend to complete an offer\n",
    "* reward (int) - reward given for completing an offer\n",
    "* duration (int) - time for offer to be open, in days\n",
    "* channels (list of strings)\n",
    "\n",
    "**profile.json**\n",
    "* age (int) - age of the customer \n",
    "* became_member_on (int) - date when customer created an app account\n",
    "* gender (str) - gender of the customer (note some entries contain 'O' for other rather than M or F)\n",
    "* id (str) - customer id\n",
    "* income (float) - customer's income\n",
    "\n",
    "**transcript.json**\n",
    "* event (str) - record description (ie transaction, offer received, offer viewed, etc.)\n",
    "* person (str) - customer id\n",
    "* time (int) - time in hours since start of test. The data begins at time t=0\n",
    "* value - (dict of strings) - either an offer id or transaction amount depending on the record"
   ]
  },
  {
   "cell_type": "markdown",
   "id": "1b78ba94-5a70-4bd9-80ff-fdd16b2695d3",
   "metadata": {},
   "source": [
    "# Project Plan"
   ]
  },
  {
   "cell_type": "markdown",
   "id": "9eb1ab6c-476f-4ae7-9a95-d8493084bbb1",
   "metadata": {},
   "source": [
    "\n",
    "This project is divided into 8 parts, and they are following the CRISP-DM model. It includes data preparation, analysis generation, feature creation, Machine Learning modeling and model evaluation. The ultimate goal is to create a model capable of predicting whether a customer has **consciously** completed an offer. This detail is important, as this project took into account conversions in which customers used the available offer after seeing the offer.  \n",
    "\n",
    "To make this possible with the available data set, the data were treated so that each line is an offer received with the other information, including whether the offer was seen and completed. This transformation will be done through a pivot table of transaction data, made with functions created in the project.   \n",
    "\n",
    "The final model must be compared to a specific baseline. The baseline that will be used in this project: All customers convert. That is, send coupon to all customers.   \n",
    "\n",
    "For the choice of model, I will list some famous classification models and determine the one that best performs in the dataset as the final model. Also, the Hyperparameter Fine Tuning will be done to try to further improve the performance of the model.  \n",
    "\n",
    "To evaluate the model, several metrics will be used. Among them: Accuracy, Precision, Recall, F1, ROC-AUC. However, the main metric for this model will be **Precision**, because for this project the focus is to improve the model's accuracy in relation to positive cases.   \n",
    "\n",
    "Every model will be developed in a way that does not allow data leakage. Furthermore, cross-validation will be applied so that the results are more accurate.\n",
    "\n",
    "In addition to all the predictive modeling, an entire data analysis will be done. From a descriptive/statistical analysis of the variables, to the generation of insights during the EDA process.   \n",
    "\n",
    "The ultimate goal is to come up with a model that predicts with more than 70% accuracy those customers who knowingly converted to test data."
   ]
  },
  {
   "cell_type": "markdown",
   "id": "2ac428a4-9349-4b5e-8898-df181e1531d9",
   "metadata": {},
   "source": [
    "# Indice\n",
    "### 1.0. Imports\n",
    "### 2.0. Data Prepare\n",
    "### 3.0. Feature Engineering\n",
    "### 4.0. Exploratory Data Analysis\n",
    "### 5.0. Data Pre-Processing\n",
    "### 6.0. Model\n",
    "### 7.0. Hyperparameter Fine Tuning\n",
    "### 8.0. Evaluating"
   ]
  },
  {
   "cell_type": "markdown",
   "id": "6cc7206a-62dd-4add-a5a1-176b4f396ddc",
   "metadata": {},
   "source": [
    "# 1.0. Imports"
   ]
  },
  {
   "cell_type": "code",
   "execution_count": 83,
   "id": "a4c577a3-2699-4d21-a8c8-a4a30d785d6f",
   "metadata": {},
   "outputs": [],
   "source": [
    "import pandas as pd\n",
    "import numpy as np\n",
    "import math\n",
    "import json\n",
    "import datetime\n",
    "import matplotlib.pyplot as plt\n",
    "import seaborn as sns\n",
    "import missingno as msno\n",
    "import statistics\n",
    "\n",
    "from sklearn import model_selection as ms\n",
    "from sklearn import feature_selection as fs\n",
    "from sklearn import linear_model as lm\n",
    "from sklearn import metrics as me\n",
    "from sklearn.impute import SimpleImputer\n",
    "import catboost                                       as cb\n",
    "from lightgbm import LGBMClassifier\n",
    "import xgboost\n",
    "from sklearn.pipeline import Pipeline\n",
    "from sklearn import metrics\n",
    "import sklearn.ensemble as en\n",
    "\n",
    "%matplotlib inline\n",
    "plt.rcParams['figure.figsize'] = [25, 12]\n",
    "plt.rcParams['font.size'] = 24\n",
    "sns.set()"
   ]
  },
  {
   "cell_type": "markdown",
   "id": "4b2608da-e105-4e20-b83c-294c33d755ee",
   "metadata": {},
   "source": [
    "## 1.1. Data"
   ]
  },
  {
   "cell_type": "code",
   "execution_count": 2,
   "id": "94bb2a82-efb9-4fba-b518-11782200e687",
   "metadata": {},
   "outputs": [],
   "source": [
    "# read in the json files\\\n",
    "portfolio = pd.read_json('data/portfolio.json', orient='records', lines=True)\n",
    "profile = pd.read_json('data/profile.json', orient='records', lines=True)\n",
    "transcript = pd.read_json('data/transcript.json', orient='records', lines=True)"
   ]
  },
  {
   "cell_type": "markdown",
   "id": "04bb3a35-9fae-4572-8e59-b81f9438f663",
   "metadata": {},
   "source": [
    "# 2.0. Data Prepare"
   ]
  },
  {
   "cell_type": "markdown",
   "id": "c1ff031c-dec6-4e77-b9d5-a10d96246878",
   "metadata": {},
   "source": [
    "## 2.1. Portfolio"
   ]
  },
  {
   "cell_type": "code",
   "execution_count": 3,
   "id": "71a218f7-47d9-48a8-a498-c81718a54c87",
   "metadata": {},
   "outputs": [
    {
     "data": {
      "text/html": [
       "<div>\n",
       "<style scoped>\n",
       "    .dataframe tbody tr th:only-of-type {\n",
       "        vertical-align: middle;\n",
       "    }\n",
       "\n",
       "    .dataframe tbody tr th {\n",
       "        vertical-align: top;\n",
       "    }\n",
       "\n",
       "    .dataframe thead th {\n",
       "        text-align: right;\n",
       "    }\n",
       "</style>\n",
       "<table border=\"1\" class=\"dataframe\">\n",
       "  <thead>\n",
       "    <tr style=\"text-align: right;\">\n",
       "      <th></th>\n",
       "      <th>reward</th>\n",
       "      <th>channels</th>\n",
       "      <th>difficulty</th>\n",
       "      <th>duration</th>\n",
       "      <th>offer_type</th>\n",
       "      <th>id</th>\n",
       "    </tr>\n",
       "  </thead>\n",
       "  <tbody>\n",
       "    <tr>\n",
       "      <th>0</th>\n",
       "      <td>10</td>\n",
       "      <td>[email, mobile, social]</td>\n",
       "      <td>10</td>\n",
       "      <td>7</td>\n",
       "      <td>bogo</td>\n",
       "      <td>ae264e3637204a6fb9bb56bc8210ddfd</td>\n",
       "    </tr>\n",
       "    <tr>\n",
       "      <th>1</th>\n",
       "      <td>10</td>\n",
       "      <td>[web, email, mobile, social]</td>\n",
       "      <td>10</td>\n",
       "      <td>5</td>\n",
       "      <td>bogo</td>\n",
       "      <td>4d5c57ea9a6940dd891ad53e9dbe8da0</td>\n",
       "    </tr>\n",
       "    <tr>\n",
       "      <th>2</th>\n",
       "      <td>0</td>\n",
       "      <td>[web, email, mobile]</td>\n",
       "      <td>0</td>\n",
       "      <td>4</td>\n",
       "      <td>informational</td>\n",
       "      <td>3f207df678b143eea3cee63160fa8bed</td>\n",
       "    </tr>\n",
       "    <tr>\n",
       "      <th>3</th>\n",
       "      <td>5</td>\n",
       "      <td>[web, email, mobile]</td>\n",
       "      <td>5</td>\n",
       "      <td>7</td>\n",
       "      <td>bogo</td>\n",
       "      <td>9b98b8c7a33c4b65b9aebfe6a799e6d9</td>\n",
       "    </tr>\n",
       "    <tr>\n",
       "      <th>4</th>\n",
       "      <td>5</td>\n",
       "      <td>[web, email]</td>\n",
       "      <td>20</td>\n",
       "      <td>10</td>\n",
       "      <td>discount</td>\n",
       "      <td>0b1e1539f2cc45b7b9fa7c272da2e1d7</td>\n",
       "    </tr>\n",
       "    <tr>\n",
       "      <th>5</th>\n",
       "      <td>3</td>\n",
       "      <td>[web, email, mobile, social]</td>\n",
       "      <td>7</td>\n",
       "      <td>7</td>\n",
       "      <td>discount</td>\n",
       "      <td>2298d6c36e964ae4a3e7e9706d1fb8c2</td>\n",
       "    </tr>\n",
       "    <tr>\n",
       "      <th>6</th>\n",
       "      <td>2</td>\n",
       "      <td>[web, email, mobile, social]</td>\n",
       "      <td>10</td>\n",
       "      <td>10</td>\n",
       "      <td>discount</td>\n",
       "      <td>fafdcd668e3743c1bb461111dcafc2a4</td>\n",
       "    </tr>\n",
       "    <tr>\n",
       "      <th>7</th>\n",
       "      <td>0</td>\n",
       "      <td>[email, mobile, social]</td>\n",
       "      <td>0</td>\n",
       "      <td>3</td>\n",
       "      <td>informational</td>\n",
       "      <td>5a8bc65990b245e5a138643cd4eb9837</td>\n",
       "    </tr>\n",
       "    <tr>\n",
       "      <th>8</th>\n",
       "      <td>5</td>\n",
       "      <td>[web, email, mobile, social]</td>\n",
       "      <td>5</td>\n",
       "      <td>5</td>\n",
       "      <td>bogo</td>\n",
       "      <td>f19421c1d4aa40978ebb69ca19b0e20d</td>\n",
       "    </tr>\n",
       "    <tr>\n",
       "      <th>9</th>\n",
       "      <td>2</td>\n",
       "      <td>[web, email, mobile]</td>\n",
       "      <td>10</td>\n",
       "      <td>7</td>\n",
       "      <td>discount</td>\n",
       "      <td>2906b810c7d4411798c6938adc9daaa5</td>\n",
       "    </tr>\n",
       "  </tbody>\n",
       "</table>\n",
       "</div>"
      ],
      "text/plain": [
       "   reward                      channels  difficulty  duration     offer_type  \\\n",
       "0      10       [email, mobile, social]          10         7           bogo   \n",
       "1      10  [web, email, mobile, social]          10         5           bogo   \n",
       "2       0          [web, email, mobile]           0         4  informational   \n",
       "3       5          [web, email, mobile]           5         7           bogo   \n",
       "4       5                  [web, email]          20        10       discount   \n",
       "5       3  [web, email, mobile, social]           7         7       discount   \n",
       "6       2  [web, email, mobile, social]          10        10       discount   \n",
       "7       0       [email, mobile, social]           0         3  informational   \n",
       "8       5  [web, email, mobile, social]           5         5           bogo   \n",
       "9       2          [web, email, mobile]          10         7       discount   \n",
       "\n",
       "                                 id  \n",
       "0  ae264e3637204a6fb9bb56bc8210ddfd  \n",
       "1  4d5c57ea9a6940dd891ad53e9dbe8da0  \n",
       "2  3f207df678b143eea3cee63160fa8bed  \n",
       "3  9b98b8c7a33c4b65b9aebfe6a799e6d9  \n",
       "4  0b1e1539f2cc45b7b9fa7c272da2e1d7  \n",
       "5  2298d6c36e964ae4a3e7e9706d1fb8c2  \n",
       "6  fafdcd668e3743c1bb461111dcafc2a4  \n",
       "7  5a8bc65990b245e5a138643cd4eb9837  \n",
       "8  f19421c1d4aa40978ebb69ca19b0e20d  \n",
       "9  2906b810c7d4411798c6938adc9daaa5  "
      ]
     },
     "execution_count": 3,
     "metadata": {},
     "output_type": "execute_result"
    }
   ],
   "source": [
    "portfolio"
   ]
  },
  {
   "cell_type": "code",
   "execution_count": 4,
   "id": "6180cf6b-92d2-48d8-ab40-5b27df19f584",
   "metadata": {},
   "outputs": [
    {
     "name": "stdout",
     "output_type": "stream",
     "text": [
      "Number of rows: 10\n",
      "Number of columns: 6\n"
     ]
    }
   ],
   "source": [
    "print(f'Number of rows: {portfolio.shape[0]}')\n",
    "print(f'Number of columns: {portfolio.shape[1]}')"
   ]
  },
  {
   "cell_type": "markdown",
   "id": "6fb9c237-6254-47ed-a082-3ce851d0184d",
   "metadata": {},
   "source": [
    "### 2.1.1. Transform Columns\n",
    "In this transformation, the data from the channels column will be exploded and transformed into columns\n",
    "where 1 means presence and 0 absence."
   ]
  },
  {
   "cell_type": "code",
   "execution_count": 75,
   "id": "e7092456-e9be-4e74-98d4-3a2b190da11e",
   "metadata": {},
   "outputs": [],
   "source": [
    "def clean_channels(list_channels, portfolio=portfolio):\n",
    "    \"\"\"\n",
    "    Function to transform list channels in new columns \n",
    "    with each channel in a different column.\n",
    "    \"\"\"\n",
    "    df = portfolio\n",
    "    \n",
    "    for channel in list_channels:\n",
    "        channel_name = f'c_{channel}'\n",
    "        df[channel_name] = [1 if channel in row['channels'] else 0 for index, row in df.iterrows()]\n",
    "    df = df.drop('channels', axis=1)\n",
    "    \n",
    "    return df"
   ]
  },
  {
   "cell_type": "code",
   "execution_count": 6,
   "id": "a26f7f3c-917e-4717-9919-163daf9df4f7",
   "metadata": {},
   "outputs": [],
   "source": [
    "# Listing available channels\n",
    "list_channels = ['web', 'email', 'mobile', 'social']\n",
    "\n",
    "df_portfolio = clean_channels(list_channels)"
   ]
  },
  {
   "cell_type": "markdown",
   "id": "7200700a-69f6-4959-9edc-aa7d9948f51f",
   "metadata": {},
   "source": [
    "### 2.1.2. Na Values\n",
    "No missing values in this table."
   ]
  },
  {
   "cell_type": "code",
   "execution_count": 7,
   "id": "4f5cd5b0-c431-4656-b1ac-33043284115e",
   "metadata": {},
   "outputs": [
    {
     "data": {
      "text/plain": [
       "reward        0\n",
       "difficulty    0\n",
       "duration      0\n",
       "offer_type    0\n",
       "id            0\n",
       "c_web         0\n",
       "c_email       0\n",
       "c_mobile      0\n",
       "c_social      0\n",
       "dtype: int64"
      ]
     },
     "execution_count": 7,
     "metadata": {},
     "output_type": "execute_result"
    }
   ],
   "source": [
    "df_portfolio.isnull().sum()"
   ]
  },
  {
   "cell_type": "markdown",
   "id": "f05d6f91-9e58-4ef7-8bc8-9214fa0069d1",
   "metadata": {},
   "source": [
    "### 2.1.3. Dtypes\n",
    "All dtypes correct."
   ]
  },
  {
   "cell_type": "code",
   "execution_count": 8,
   "id": "71e5b42a-09f0-43b9-a530-243dd342255b",
   "metadata": {},
   "outputs": [
    {
     "data": {
      "text/plain": [
       "reward         int64\n",
       "difficulty     int64\n",
       "duration       int64\n",
       "offer_type    object\n",
       "id            object\n",
       "c_web          int64\n",
       "c_email        int64\n",
       "c_mobile       int64\n",
       "c_social       int64\n",
       "dtype: object"
      ]
     },
     "execution_count": 8,
     "metadata": {},
     "output_type": "execute_result"
    }
   ],
   "source": [
    "df_portfolio.dtypes"
   ]
  },
  {
   "cell_type": "markdown",
   "id": "1370e292-a1d8-4d01-83c5-582f804fc5c5",
   "metadata": {},
   "source": [
    "## 2.2. Profile"
   ]
  },
  {
   "cell_type": "code",
   "execution_count": 9,
   "id": "5c1273b4-8815-4acc-a56e-10593acaded0",
   "metadata": {},
   "outputs": [
    {
     "data": {
      "text/html": [
       "<div>\n",
       "<style scoped>\n",
       "    .dataframe tbody tr th:only-of-type {\n",
       "        vertical-align: middle;\n",
       "    }\n",
       "\n",
       "    .dataframe tbody tr th {\n",
       "        vertical-align: top;\n",
       "    }\n",
       "\n",
       "    .dataframe thead th {\n",
       "        text-align: right;\n",
       "    }\n",
       "</style>\n",
       "<table border=\"1\" class=\"dataframe\">\n",
       "  <thead>\n",
       "    <tr style=\"text-align: right;\">\n",
       "      <th></th>\n",
       "      <th>gender</th>\n",
       "      <th>age</th>\n",
       "      <th>id</th>\n",
       "      <th>became_member_on</th>\n",
       "      <th>income</th>\n",
       "    </tr>\n",
       "  </thead>\n",
       "  <tbody>\n",
       "    <tr>\n",
       "      <th>0</th>\n",
       "      <td>None</td>\n",
       "      <td>118</td>\n",
       "      <td>68be06ca386d4c31939f3a4f0e3dd783</td>\n",
       "      <td>20170212</td>\n",
       "      <td>NaN</td>\n",
       "    </tr>\n",
       "    <tr>\n",
       "      <th>1</th>\n",
       "      <td>F</td>\n",
       "      <td>55</td>\n",
       "      <td>0610b486422d4921ae7d2bf64640c50b</td>\n",
       "      <td>20170715</td>\n",
       "      <td>112000.0</td>\n",
       "    </tr>\n",
       "    <tr>\n",
       "      <th>2</th>\n",
       "      <td>None</td>\n",
       "      <td>118</td>\n",
       "      <td>38fe809add3b4fcf9315a9694bb96ff5</td>\n",
       "      <td>20180712</td>\n",
       "      <td>NaN</td>\n",
       "    </tr>\n",
       "    <tr>\n",
       "      <th>3</th>\n",
       "      <td>F</td>\n",
       "      <td>75</td>\n",
       "      <td>78afa995795e4d85b5d9ceeca43f5fef</td>\n",
       "      <td>20170509</td>\n",
       "      <td>100000.0</td>\n",
       "    </tr>\n",
       "    <tr>\n",
       "      <th>4</th>\n",
       "      <td>None</td>\n",
       "      <td>118</td>\n",
       "      <td>a03223e636434f42ac4c3df47e8bac43</td>\n",
       "      <td>20170804</td>\n",
       "      <td>NaN</td>\n",
       "    </tr>\n",
       "  </tbody>\n",
       "</table>\n",
       "</div>"
      ],
      "text/plain": [
       "  gender  age                                id  became_member_on    income\n",
       "0   None  118  68be06ca386d4c31939f3a4f0e3dd783          20170212       NaN\n",
       "1      F   55  0610b486422d4921ae7d2bf64640c50b          20170715  112000.0\n",
       "2   None  118  38fe809add3b4fcf9315a9694bb96ff5          20180712       NaN\n",
       "3      F   75  78afa995795e4d85b5d9ceeca43f5fef          20170509  100000.0\n",
       "4   None  118  a03223e636434f42ac4c3df47e8bac43          20170804       NaN"
      ]
     },
     "execution_count": 9,
     "metadata": {},
     "output_type": "execute_result"
    }
   ],
   "source": [
    "df_profile = profile.copy()\n",
    "df_profile.head()"
   ]
  },
  {
   "cell_type": "code",
   "execution_count": 10,
   "id": "c4984ece-89c6-4673-b9de-740008948d63",
   "metadata": {},
   "outputs": [
    {
     "name": "stdout",
     "output_type": "stream",
     "text": [
      "Number of rows: 17000\n",
      "Number of columns: 5\n"
     ]
    }
   ],
   "source": [
    "print(f'Number of rows: {df_profile.shape[0]}')\n",
    "print(f'Number of columns: {df_profile.shape[1]}')"
   ]
  },
  {
   "cell_type": "markdown",
   "id": "740deaf1-826d-4b69-9350-f319fb2dc482",
   "metadata": {},
   "source": [
    "### 2.2.1. Transform Columns\n",
    "The only necessary transformation in this column is to change the type of the date column."
   ]
  },
  {
   "cell_type": "code",
   "execution_count": 11,
   "id": "87db22df-ad49-403e-aa1b-97ffbc24b452",
   "metadata": {},
   "outputs": [],
   "source": [
    "# Transform date column\n",
    "df_profile['became_member_on'] = pd.to_datetime(df_profile['became_member_on'], format='%Y%m%d')"
   ]
  },
  {
   "cell_type": "markdown",
   "id": "7af6c959-e4d2-4706-beef-d118d162144b",
   "metadata": {},
   "source": [
    "### 2.2.2. Na Values\n",
    "Here it is possible to find null values in gender and income. By pattern analysis, the null values are all from the same users.   \n",
    "This behavior will be investigated and during modeling these values will be substituted."
   ]
  },
  {
   "cell_type": "code",
   "execution_count": 12,
   "id": "1ad76cd0-4cc6-4db9-acdb-dc0b8a44c77a",
   "metadata": {},
   "outputs": [
    {
     "data": {
      "text/plain": [
       "gender              12.79\n",
       "age                  0.00\n",
       "id                   0.00\n",
       "became_member_on     0.00\n",
       "income              12.79\n",
       "dtype: float64"
      ]
     },
     "execution_count": 12,
     "metadata": {},
     "output_type": "execute_result"
    }
   ],
   "source": [
    "round((df_profile.isnull().sum() / df_profile.shape[0]) * 100, 2)"
   ]
  },
  {
   "cell_type": "code",
   "execution_count": 13,
   "id": "c3bb736f-9779-4203-ba0f-d044c442d7ba",
   "metadata": {},
   "outputs": [
    {
     "data": {
      "text/plain": [
       "<AxesSubplot:>"
      ]
     },
     "execution_count": 13,
     "metadata": {},
     "output_type": "execute_result"
    },
    {
     "data": {
      "image/png": "[encoded data removed]",
      "text/plain": [
       "<Figure size 1800x720 with 2 Axes>"
      ]
     },
     "metadata": {},
     "output_type": "display_data"
    }
   ],
   "source": [
    "msno.matrix(df_profile)"
   ]
  },
  {
   "cell_type": "markdown",
   "id": "f448093f-61be-4f94-a77b-ef8f9390b928",
   "metadata": {},
   "source": [
    "#### Age \n",
    "All age values = 118 are from null profile values.    \n",
    "These null values are shared with the same null lines in gender and income.   \n",
    "I will substitute the values from 118 to nan so that they can be properly handled."
   ]
  },
  {
   "cell_type": "code",
   "execution_count": 76,
   "id": "eee3087c-0664-4dff-a504-406cfd7cae46",
   "metadata": {},
   "outputs": [
    {
     "data": {
      "text/plain": [
       "<AxesSubplot:>"
      ]
     },
     "execution_count": 76,
     "metadata": {},
     "output_type": "execute_result"
    },
    {
     "data": {
      "image/png": "[encoded data removed]",
      "text/plain": [
       "<Figure size 1800x864 with 2 Axes>"
      ]
     },
     "metadata": {},
     "output_type": "display_data"
    }
   ],
   "source": [
    "grid = plt.GridSpec(2, 1)\n",
    "\n",
    "plt.subplot(grid[0, 0])\n",
    "df_profile['age'].hist(bins=100)\n",
    "\n",
    "plt.subplot(grid[1, 0])\n",
    "sns.boxplot(data=df_profile['age'], orient='h')"
   ]
  },
  {
   "cell_type": "code",
   "execution_count": 15,
   "id": "091c7ea8-b208-4b76-9846-2e21bd59ff8a",
   "metadata": {},
   "outputs": [],
   "source": [
    "df_profile.loc[df_profile['age'] == 118, 'age'] = np.nan"
   ]
  },
  {
   "cell_type": "markdown",
   "id": "a0583147-ace3-4d16-9180-2a0d87686c5c",
   "metadata": {},
   "source": [
    "#### Gender\n",
    "Only categorical data will be treated at that time. Continuous data will be handled during the model to avoid data leakage.\n",
    "Missing data will be replaced by **unknown**."
   ]
  },
  {
   "cell_type": "code",
   "execution_count": 16,
   "id": "df3b3380-0d12-4fd6-bf01-c13631ff38a1",
   "metadata": {},
   "outputs": [],
   "source": [
    "df_profile['gender'] = df_profile['gender'].fillna('unknown')"
   ]
  },
  {
   "cell_type": "markdown",
   "id": "e8cb4d5d-c0fa-415f-a94e-430b719a53c1",
   "metadata": {},
   "source": [
    "### 2.2.3. dtypes\n",
    "All dtypes correct."
   ]
  },
  {
   "cell_type": "code",
   "execution_count": 17,
   "id": "02a35785-aa37-4854-ac3f-e97fa3e2d872",
   "metadata": {},
   "outputs": [
    {
     "data": {
      "text/plain": [
       "gender                      object\n",
       "age                        float64\n",
       "id                          object\n",
       "became_member_on    datetime64[ns]\n",
       "income                     float64\n",
       "dtype: object"
      ]
     },
     "execution_count": 17,
     "metadata": {},
     "output_type": "execute_result"
    }
   ],
   "source": [
    "df_profile.dtypes"
   ]
  },
  {
   "cell_type": "markdown",
   "id": "0b86c4f1-db87-4130-9571-6fcc03d54824",
   "metadata": {},
   "source": [
    "## 2.3. Transcript"
   ]
  },
  {
   "cell_type": "code",
   "execution_count": 18,
   "id": "a92a1d73-2a03-4bca-8a05-dde39f25f1b9",
   "metadata": {},
   "outputs": [
    {
     "data": {
      "text/html": [
       "<div>\n",
       "<style scoped>\n",
       "    .dataframe tbody tr th:only-of-type {\n",
       "        vertical-align: middle;\n",
       "    }\n",
       "\n",
       "    .dataframe tbody tr th {\n",
       "        vertical-align: top;\n",
       "    }\n",
       "\n",
       "    .dataframe thead th {\n",
       "        text-align: right;\n",
       "    }\n",
       "</style>\n",
       "<table border=\"1\" class=\"dataframe\">\n",
       "  <thead>\n",
       "    <tr style=\"text-align: right;\">\n",
       "      <th></th>\n",
       "      <th>person</th>\n",
       "      <th>event</th>\n",
       "      <th>value</th>\n",
       "      <th>time</th>\n",
       "    </tr>\n",
       "  </thead>\n",
       "  <tbody>\n",
       "    <tr>\n",
       "      <th>0</th>\n",
       "      <td>78afa995795e4d85b5d9ceeca43f5fef</td>\n",
       "      <td>offer received</td>\n",
       "      <td>{'offer id': '9b98b8c7a33c4b65b9aebfe6a799e6d9'}</td>\n",
       "      <td>0</td>\n",
       "    </tr>\n",
       "    <tr>\n",
       "      <th>1</th>\n",
       "      <td>a03223e636434f42ac4c3df47e8bac43</td>\n",
       "      <td>offer received</td>\n",
       "      <td>{'offer id': '0b1e1539f2cc45b7b9fa7c272da2e1d7'}</td>\n",
       "      <td>0</td>\n",
       "    </tr>\n",
       "    <tr>\n",
       "      <th>2</th>\n",
       "      <td>e2127556f4f64592b11af22de27a7932</td>\n",
       "      <td>offer received</td>\n",
       "      <td>{'offer id': '2906b810c7d4411798c6938adc9daaa5'}</td>\n",
       "      <td>0</td>\n",
       "    </tr>\n",
       "    <tr>\n",
       "      <th>3</th>\n",
       "      <td>8ec6ce2a7e7949b1bf142def7d0e0586</td>\n",
       "      <td>offer received</td>\n",
       "      <td>{'offer id': 'fafdcd668e3743c1bb461111dcafc2a4'}</td>\n",
       "      <td>0</td>\n",
       "    </tr>\n",
       "    <tr>\n",
       "      <th>4</th>\n",
       "      <td>68617ca6246f4fbc85e91a2a49552598</td>\n",
       "      <td>offer received</td>\n",
       "      <td>{'offer id': '4d5c57ea9a6940dd891ad53e9dbe8da0'}</td>\n",
       "      <td>0</td>\n",
       "    </tr>\n",
       "  </tbody>\n",
       "</table>\n",
       "</div>"
      ],
      "text/plain": [
       "                             person           event  \\\n",
       "0  78afa995795e4d85b5d9ceeca43f5fef  offer received   \n",
       "1  a03223e636434f42ac4c3df47e8bac43  offer received   \n",
       "2  e2127556f4f64592b11af22de27a7932  offer received   \n",
       "3  8ec6ce2a7e7949b1bf142def7d0e0586  offer received   \n",
       "4  68617ca6246f4fbc85e91a2a49552598  offer received   \n",
       "\n",
       "                                              value  time  \n",
       "0  {'offer id': '9b98b8c7a33c4b65b9aebfe6a799e6d9'}     0  \n",
       "1  {'offer id': '0b1e1539f2cc45b7b9fa7c272da2e1d7'}     0  \n",
       "2  {'offer id': '2906b810c7d4411798c6938adc9daaa5'}     0  \n",
       "3  {'offer id': 'fafdcd668e3743c1bb461111dcafc2a4'}     0  \n",
       "4  {'offer id': '4d5c57ea9a6940dd891ad53e9dbe8da0'}     0  "
      ]
     },
     "execution_count": 18,
     "metadata": {},
     "output_type": "execute_result"
    }
   ],
   "source": [
    "df_transcript = transcript.copy()\n",
    "df_transcript.head()"
   ]
  },
  {
   "cell_type": "code",
   "execution_count": 19,
   "id": "161a024a-0d9a-43ee-895c-cf1b9a121700",
   "metadata": {},
   "outputs": [
    {
     "name": "stdout",
     "output_type": "stream",
     "text": [
      "Number of rows: 306534\n",
      "Number of columns: 4\n"
     ]
    }
   ],
   "source": [
    "print(f'Number of rows: {df_transcript.shape[0]}')\n",
    "print(f'Number of columns: {df_transcript.shape[1]}')"
   ]
  },
  {
   "cell_type": "markdown",
   "id": "53178603-5f15-44c4-b94d-f3abd541ba97",
   "metadata": {},
   "source": [
    "### 2.3.1. Transform Columns \n",
    "To do this transformation, I will take the values ​​that are inserted into the dictionaries in the value column.   \n",
    "This column will be divided into **value** with the monetary value for entries with transactions and **code** for entries with status of orders.   \n",
    "I will also merge it with the portfolio table to make it easier during feature engineering. From this table, **duration** and **offer_type** will be used. **duration** will be multiplied by 24 to extract the duration in hours."
   ]
  },
  {
   "cell_type": "code",
   "execution_count": 20,
   "id": "419941f7-af58-47ef-912f-116742690e56",
   "metadata": {},
   "outputs": [],
   "source": [
    "# Transforming value columns\n",
    "clean_value = (\n",
    "    lambda x: str(x.values())\n",
    "    .split('[')[1] #split per \"[\" and get second value\n",
    "    .split(']')[0] #split per \"]\" and get first value\n",
    "    .split(',')[0] #split per \",\" and get first value\n",
    "    .strip(\"'\") #taking \"'\" from values\n",
    ") \n",
    "\n",
    "aux = df_transcript['value'].apply(clean_value)\n",
    "\n",
    "df_transcript = transcript.assign(value=aux)\n",
    "\n",
    "df_transcript = df_transcript.assign(code=df_transcript['value']).reset_index(drop=True)\n",
    "\n",
    "df_transcript['value'] = df_transcript['value'].apply(lambda x: None if '.' not in x else x).astype('float')"
   ]
  },
  {
   "cell_type": "code",
   "execution_count": 21,
   "id": "f7579943-43ed-44f4-b931-3d09a3f00b81",
   "metadata": {},
   "outputs": [],
   "source": [
    "join_portfolio = df_portfolio.loc[:, ['id', 'offer_type', 'duration']]"
   ]
  },
  {
   "cell_type": "code",
   "execution_count": 22,
   "id": "367d495d-118f-4149-af24-172441ff0540",
   "metadata": {},
   "outputs": [],
   "source": [
    "df_transcript = pd.merge(df_transcript, join_portfolio, left_on='code', right_on='id', how='outer').drop('id', axis=1)\n",
    "\n",
    "# Ordering by person and time\n",
    "df_transcript = df_transcript.sort_values(['person', 'time'])\n",
    "\n",
    "# clean code\n",
    "df_transcript['code'] = df_transcript['code'].apply(lambda x: None if '.' in x else x)"
   ]
  },
  {
   "cell_type": "code",
   "execution_count": 23,
   "id": "cc36b4eb-deab-41bc-8cbd-da0a18b151ed",
   "metadata": {},
   "outputs": [],
   "source": [
    "df_transcript['duration'] = df_transcript.loc[df_transcript['event'] == 'offer received', 'duration'] * 24"
   ]
  },
  {
   "cell_type": "code",
   "execution_count": 24,
   "id": "87de3b06-8a71-476d-9f16-3d5ed91d9b6b",
   "metadata": {},
   "outputs": [
    {
     "data": {
      "text/html": [
       "<div>\n",
       "<style scoped>\n",
       "    .dataframe tbody tr th:only-of-type {\n",
       "        vertical-align: middle;\n",
       "    }\n",
       "\n",
       "    .dataframe tbody tr th {\n",
       "        vertical-align: top;\n",
       "    }\n",
       "\n",
       "    .dataframe thead th {\n",
       "        text-align: right;\n",
       "    }\n",
       "</style>\n",
       "<table border=\"1\" class=\"dataframe\">\n",
       "  <thead>\n",
       "    <tr style=\"text-align: right;\">\n",
       "      <th></th>\n",
       "      <th>person</th>\n",
       "      <th>event</th>\n",
       "      <th>value</th>\n",
       "      <th>time</th>\n",
       "      <th>code</th>\n",
       "      <th>offer_type</th>\n",
       "      <th>duration</th>\n",
       "    </tr>\n",
       "  </thead>\n",
       "  <tbody>\n",
       "    <tr>\n",
       "      <th>155971</th>\n",
       "      <td>0009655768c64bdeb2e877511632db8f</td>\n",
       "      <td>offer received</td>\n",
       "      <td>NaN</td>\n",
       "      <td>168</td>\n",
       "      <td>5a8bc65990b245e5a138643cd4eb9837</td>\n",
       "      <td>informational</td>\n",
       "      <td>72.0</td>\n",
       "    </tr>\n",
       "    <tr>\n",
       "      <th>157631</th>\n",
       "      <td>0009655768c64bdeb2e877511632db8f</td>\n",
       "      <td>offer viewed</td>\n",
       "      <td>NaN</td>\n",
       "      <td>192</td>\n",
       "      <td>5a8bc65990b245e5a138643cd4eb9837</td>\n",
       "      <td>informational</td>\n",
       "      <td>NaN</td>\n",
       "    </tr>\n",
       "    <tr>\n",
       "      <th>269631</th>\n",
       "      <td>0009655768c64bdeb2e877511632db8f</td>\n",
       "      <td>transaction</td>\n",
       "      <td>22.16</td>\n",
       "      <td>228</td>\n",
       "      <td>None</td>\n",
       "      <td>NaN</td>\n",
       "      <td>NaN</td>\n",
       "    </tr>\n",
       "    <tr>\n",
       "      <th>127775</th>\n",
       "      <td>0009655768c64bdeb2e877511632db8f</td>\n",
       "      <td>offer received</td>\n",
       "      <td>NaN</td>\n",
       "      <td>336</td>\n",
       "      <td>3f207df678b143eea3cee63160fa8bed</td>\n",
       "      <td>informational</td>\n",
       "      <td>96.0</td>\n",
       "    </tr>\n",
       "    <tr>\n",
       "      <th>129199</th>\n",
       "      <td>0009655768c64bdeb2e877511632db8f</td>\n",
       "      <td>offer viewed</td>\n",
       "      <td>NaN</td>\n",
       "      <td>372</td>\n",
       "      <td>3f207df678b143eea3cee63160fa8bed</td>\n",
       "      <td>informational</td>\n",
       "      <td>NaN</td>\n",
       "    </tr>\n",
       "  </tbody>\n",
       "</table>\n",
       "</div>"
      ],
      "text/plain": [
       "                                  person           event  value  time  \\\n",
       "155971  0009655768c64bdeb2e877511632db8f  offer received    NaN   168   \n",
       "157631  0009655768c64bdeb2e877511632db8f    offer viewed    NaN   192   \n",
       "269631  0009655768c64bdeb2e877511632db8f     transaction  22.16   228   \n",
       "127775  0009655768c64bdeb2e877511632db8f  offer received    NaN   336   \n",
       "129199  0009655768c64bdeb2e877511632db8f    offer viewed    NaN   372   \n",
       "\n",
       "                                    code     offer_type  duration  \n",
       "155971  5a8bc65990b245e5a138643cd4eb9837  informational      72.0  \n",
       "157631  5a8bc65990b245e5a138643cd4eb9837  informational       NaN  \n",
       "269631                              None            NaN       NaN  \n",
       "127775  3f207df678b143eea3cee63160fa8bed  informational      96.0  \n",
       "129199  3f207df678b143eea3cee63160fa8bed  informational       NaN  "
      ]
     },
     "execution_count": 24,
     "metadata": {},
     "output_type": "execute_result"
    }
   ],
   "source": [
    "df_transcript.head()"
   ]
  },
  {
   "cell_type": "markdown",
   "id": "710d4908-fffd-48b8-95a1-225f51eee51f",
   "metadata": {},
   "source": [
    "### 2.3.2. Na Values\n",
    "These Na values are normal."
   ]
  },
  {
   "cell_type": "code",
   "execution_count": 25,
   "id": "dd80c6e1-d999-42ee-a197-b42978da1e4f",
   "metadata": {},
   "outputs": [
    {
     "data": {
      "text/plain": [
       "person        0.000000\n",
       "event         0.000000\n",
       "value         0.546696\n",
       "time          0.000000\n",
       "code          0.453304\n",
       "offer_type    0.453304\n",
       "duration      0.751163\n",
       "dtype: float64"
      ]
     },
     "execution_count": 25,
     "metadata": {},
     "output_type": "execute_result"
    }
   ],
   "source": [
    "df_transcript.isnull().sum() / len(df_transcript)"
   ]
  },
  {
   "cell_type": "markdown",
   "id": "d2593916-da55-40aa-81a0-5c9d279585c7",
   "metadata": {},
   "source": [
    "### 2.3.3. dtypes\n",
    "All dtypes correct."
   ]
  },
  {
   "cell_type": "code",
   "execution_count": 26,
   "id": "402b81e8-82fa-40bf-ac27-67094da6f79b",
   "metadata": {},
   "outputs": [
    {
     "data": {
      "text/plain": [
       "person         object\n",
       "event          object\n",
       "value         float64\n",
       "time            int64\n",
       "code           object\n",
       "offer_type     object\n",
       "duration      float64\n",
       "dtype: object"
      ]
     },
     "execution_count": 26,
     "metadata": {},
     "output_type": "execute_result"
    }
   ],
   "source": [
    "df_transcript.dtypes"
   ]
  },
  {
   "cell_type": "markdown",
   "id": "811fc1a2-31a2-4abb-aaed-05621576be8e",
   "metadata": {},
   "source": [
    "# 3.0. Feature Engineering"
   ]
  },
  {
   "cell_type": "code",
   "execution_count": 27,
   "id": "fa291adb-55d4-45cb-a8bb-78b6168d0407",
   "metadata": {},
   "outputs": [],
   "source": [
    "aux_transcript = df_transcript.loc[df_transcript['offer_type'] != 'informational']"
   ]
  },
  {
   "cell_type": "code",
   "execution_count": 230,
   "id": "9c5851f7-ffaf-4697-b18c-70bb46e7876b",
   "metadata": {},
   "outputs": [],
   "source": [
    "def pivot_transactions(df):\n",
    "    \"\"\"\n",
    "    Function that transforms a dataframe into a pivot table with 5 columns:\n",
    "        - person: person code\n",
    "        - code: offer code\n",
    "        - offer_completed: 1 - complete 0 - not complete\n",
    "        - offer_received: 1 - received\n",
    "        - offer_viewed: 1 - viewed 0 - not viewed\n",
    "    \"\"\"\n",
    "    # Exclude transactions\n",
    "    df = df.loc[\n",
    "        (df['event'] == 'offer received')\n",
    "        | (df['event'] == 'offer completed')\n",
    "        | (df['event'] == 'offer viewed')\n",
    "        , ['person', 'code', 'event']\n",
    "    ]\n",
    "    # Columns to count\n",
    "    df['counter'] = 1\n",
    "    # Pivot table\n",
    "    aux = df.pivot_table(values='counter', index=['person', 'code'], \n",
    "                         columns='event', aggfunc=sum).reset_index()\n",
    "    aux.columns = ['person', 'code', 'offer_completed', \n",
    "                   'offer_received', 'offer_viewed']\n",
    "    # Replace Na\n",
    "    aux.fillna(0, inplace=True)\n",
    "    # Change dtypes\n",
    "    aux['offer_completed'] = aux['offer_completed'].astype(int)\n",
    "    aux['offer_received'] = aux['offer_received'].astype(int)\n",
    "    aux['offer_viewed'] = aux['offer_viewed'].astype(int)\n",
    "    \n",
    "    # The pivot table counts the number of cases. Here these \n",
    "    # case numbers will be exploded into lines\n",
    "    c = 0\n",
    "    aux_2 = aux.loc[aux['offer_received'] > 1]\n",
    "\n",
    "    dict_rows = {}\n",
    "    for index, row in aux_2.iterrows():\n",
    "        num_rec = row['offer_received']\n",
    "        for count in range(1, num_rec):\n",
    "            c += 1\n",
    "            dict_rows[c] = [row['person'], row['code'], \n",
    "                            row['offer_completed'] - count,\n",
    "                            row['offer_received'],\n",
    "                            row['offer_viewed'] - count]\n",
    "            \n",
    "    append_rows = pd.DataFrame(dict_rows).T\n",
    "    append_rows.columns = ['person', 'code', 'offer_completed', 'offer_received', 'offer_viewed']\n",
    "    # concat\n",
    "    aux = pd.concat([aux, append_rows])\n",
    "    \n",
    "    list_columns = ['offer_completed', 'offer_received', 'offer_viewed']\n",
    "    for column in list_columns:\n",
    "        aux[column] = aux[column].apply(lambda x: 0 if x <= 0 else 1)\n",
    "        \n",
    "    return aux.sort_values(by=['person', 'code'])"
   ]
  },
  {
   "cell_type": "markdown",
   "id": "2f68b3d9-2b4e-4199-bdae-a7a8d358d0f9",
   "metadata": {},
   "source": [
    "## 3.1. Join\n",
    "Joining all tables and selecting only the columns of interest."
   ]
  },
  {
   "cell_type": "code",
   "execution_count": 231,
   "id": "025de11b-d05b-4689-a00c-9ced94eb07d3",
   "metadata": {},
   "outputs": [],
   "source": [
    "# Declaring the pivot table\n",
    "df = pivot_transactions(aux_transcript)"
   ]
  },
  {
   "cell_type": "code",
   "execution_count": 232,
   "id": "f22939c4-4257-4b51-97e9-e8e6bf0c4aec",
   "metadata": {},
   "outputs": [],
   "source": [
    "# Merges\n",
    "df = pd.merge(df, df_profile, left_on='person', right_on='id')\n",
    "df = pd.merge(df, df_portfolio, left_on='code', right_on='id')"
   ]
  },
  {
   "cell_type": "code",
   "execution_count": 233,
   "id": "2fd05aed-35d8-4e78-bb6b-700d9771ee13",
   "metadata": {},
   "outputs": [],
   "source": [
    "# Selecting columns\n",
    "df = df[['person', 'age', 'gender', 'income', 'became_member_on',\n",
    "         'code', 'offer_type', 'reward', 'duration', 'difficulty', \n",
    "         'c_web', 'c_email', 'c_mobile', 'c_social', 'offer_received', \n",
    "         'offer_viewed', 'offer_completed']]"
   ]
  },
  {
   "cell_type": "markdown",
   "id": "b54f52a2-cd8c-4301-b8aa-9ba5be048cc6",
   "metadata": {},
   "source": [
    "## 3.2. Missing Data\n",
    "Null values are the result of entries without information in the profile. I will create a new column that determines if the value is null or not"
   ]
  },
  {
   "cell_type": "code",
   "execution_count": 32,
   "id": "97a9a8b1-974e-4cb2-99b7-5e05f5a6e395",
   "metadata": {},
   "outputs": [],
   "source": [
    "df['missing_profile'] = df['income'].apply(lambda x: 1 if pd.isnull(x) else 0)"
   ]
  },
  {
   "cell_type": "markdown",
   "id": "06ca84fb-06d3-401b-9dbc-39b3226b8eb8",
   "metadata": {},
   "source": [
    "## 3.3. Response Variable - Completed offer consciously\n",
    "Not all completed offers are made knowingly. Completed unseen offers should not be considered a success."
   ]
  },
  {
   "cell_type": "code",
   "execution_count": 33,
   "id": "f5a04791-cf86-4cbe-bd66-5dc621a178d5",
   "metadata": {},
   "outputs": [],
   "source": [
    "df['consciously_complete'] = [1 if (row['offer_viewed'] == 1 & row['offer_completed'] == 1) else 0\n",
    "                             for index, row in df.iterrows()]"
   ]
  },
  {
   "cell_type": "markdown",
   "id": "39a05423-26f0-4641-b169-0cc642f81eef",
   "metadata": {},
   "source": [
    "## 3.4. Days Member\n",
    "Turning the date column into how many days the person is a member. For this, the value of the day is being subtracted from the maximum value of the dataset."
   ]
  },
  {
   "cell_type": "code",
   "execution_count": 234,
   "id": "9e92505e-1feb-4a65-b479-19d95136108a",
   "metadata": {},
   "outputs": [],
   "source": [
    "delta_days = [(df['became_member_on'].max().date() - row['became_member_on'].date()).days for index, row in df.iterrows()]"
   ]
  },
  {
   "cell_type": "code",
   "execution_count": 235,
   "id": "d25ef1be-cda6-4197-abc5-d957f4477f3f",
   "metadata": {},
   "outputs": [],
   "source": [
    "df['delta_days'] = delta_days"
   ]
  },
  {
   "cell_type": "markdown",
   "id": "36ef0199-120c-4e21-91fa-8dbf5b561489",
   "metadata": {},
   "source": [
    "# 4.0. Exploratory Data Analysis"
   ]
  },
  {
   "cell_type": "code",
   "execution_count": 37,
   "id": "36d98a67-8df9-4509-b500-d1ce85459fbb",
   "metadata": {},
   "outputs": [],
   "source": [
    "df4 = df.copy()"
   ]
  },
  {
   "cell_type": "markdown",
   "id": "3e10df9c-7abe-457e-807c-60310863855e",
   "metadata": {},
   "source": [
    "## 4.1. Univariate Analysis"
   ]
  },
  {
   "cell_type": "markdown",
   "id": "ce43783c-a36e-447a-a92c-69409c0a71e4",
   "metadata": {},
   "source": [
    "### 4.1.1. Numerical Variables"
   ]
  },
  {
   "cell_type": "markdown",
   "id": "a354141b-adf6-480d-a7a1-16822c3d0cde",
   "metadata": {},
   "source": [
    "#### Profile"
   ]
  },
  {
   "cell_type": "code",
   "execution_count": 39,
   "id": "37994b17-a386-40c1-9cf1-ea987ff98e71",
   "metadata": {},
   "outputs": [
    {
     "data": {
      "text/html": [
       "<div>\n",
       "<style scoped>\n",
       "    .dataframe tbody tr th:only-of-type {\n",
       "        vertical-align: middle;\n",
       "    }\n",
       "\n",
       "    .dataframe tbody tr th {\n",
       "        vertical-align: top;\n",
       "    }\n",
       "\n",
       "    .dataframe thead th {\n",
       "        text-align: right;\n",
       "    }\n",
       "</style>\n",
       "<table border=\"1\" class=\"dataframe\">\n",
       "  <thead>\n",
       "    <tr style=\"text-align: right;\">\n",
       "      <th></th>\n",
       "      <th>age</th>\n",
       "      <th>income</th>\n",
       "    </tr>\n",
       "  </thead>\n",
       "  <tbody>\n",
       "    <tr>\n",
       "      <th>count</th>\n",
       "      <td>14825.000000</td>\n",
       "      <td>14825.000000</td>\n",
       "    </tr>\n",
       "    <tr>\n",
       "      <th>mean</th>\n",
       "      <td>54.393524</td>\n",
       "      <td>65404.991568</td>\n",
       "    </tr>\n",
       "    <tr>\n",
       "      <th>std</th>\n",
       "      <td>17.383705</td>\n",
       "      <td>21598.299410</td>\n",
       "    </tr>\n",
       "    <tr>\n",
       "      <th>min</th>\n",
       "      <td>18.000000</td>\n",
       "      <td>30000.000000</td>\n",
       "    </tr>\n",
       "    <tr>\n",
       "      <th>25%</th>\n",
       "      <td>42.000000</td>\n",
       "      <td>49000.000000</td>\n",
       "    </tr>\n",
       "    <tr>\n",
       "      <th>50%</th>\n",
       "      <td>55.000000</td>\n",
       "      <td>64000.000000</td>\n",
       "    </tr>\n",
       "    <tr>\n",
       "      <th>75%</th>\n",
       "      <td>66.000000</td>\n",
       "      <td>80000.000000</td>\n",
       "    </tr>\n",
       "    <tr>\n",
       "      <th>max</th>\n",
       "      <td>101.000000</td>\n",
       "      <td>120000.000000</td>\n",
       "    </tr>\n",
       "  </tbody>\n",
       "</table>\n",
       "</div>"
      ],
      "text/plain": [
       "                age         income\n",
       "count  14825.000000   14825.000000\n",
       "mean      54.393524   65404.991568\n",
       "std       17.383705   21598.299410\n",
       "min       18.000000   30000.000000\n",
       "25%       42.000000   49000.000000\n",
       "50%       55.000000   64000.000000\n",
       "75%       66.000000   80000.000000\n",
       "max      101.000000  120000.000000"
      ]
     },
     "execution_count": 39,
     "metadata": {},
     "output_type": "execute_result"
    }
   ],
   "source": [
    "df_profile.describe()"
   ]
  },
  {
   "cell_type": "code",
   "execution_count": 38,
   "id": "4a27c550-fe6b-4cb2-bc9d-2e6383f6f51c",
   "metadata": {},
   "outputs": [
    {
     "data": {
      "image/png": "[encoded data removed]",
      "text/plain": [
       "<Figure size 1800x864 with 4 Axes>"
      ]
     },
     "metadata": {},
     "output_type": "display_data"
    }
   ],
   "source": [
    "df_profile.hist(bins=50);"
   ]
  },
  {
   "cell_type": "markdown",
   "id": "28a6833b-fdef-48cb-9561-7ae424b717c7",
   "metadata": {},
   "source": [
    "#### Transaction"
   ]
  },
  {
   "cell_type": "code",
   "execution_count": 41,
   "id": "5c9a6a6d-3895-4c0c-ac11-b7c7bf34fb45",
   "metadata": {},
   "outputs": [
    {
     "data": {
      "text/html": [
       "<div>\n",
       "<style scoped>\n",
       "    .dataframe tbody tr th:only-of-type {\n",
       "        vertical-align: middle;\n",
       "    }\n",
       "\n",
       "    .dataframe tbody tr th {\n",
       "        vertical-align: top;\n",
       "    }\n",
       "\n",
       "    .dataframe thead th {\n",
       "        text-align: right;\n",
       "    }\n",
       "</style>\n",
       "<table border=\"1\" class=\"dataframe\">\n",
       "  <thead>\n",
       "    <tr style=\"text-align: right;\">\n",
       "      <th></th>\n",
       "      <th>reward</th>\n",
       "      <th>duration</th>\n",
       "      <th>difficulty</th>\n",
       "      <th>c_web</th>\n",
       "      <th>c_email</th>\n",
       "      <th>c_mobile</th>\n",
       "      <th>c_social</th>\n",
       "      <th>offer_received</th>\n",
       "      <th>offer_viewed</th>\n",
       "      <th>offer_completed</th>\n",
       "      <th>missing_profile</th>\n",
       "      <th>consciously_complete</th>\n",
       "      <th>delta_days</th>\n",
       "    </tr>\n",
       "  </thead>\n",
       "  <tbody>\n",
       "    <tr>\n",
       "      <th>count</th>\n",
       "      <td>61042.000000</td>\n",
       "      <td>61042.000000</td>\n",
       "      <td>61042.000000</td>\n",
       "      <td>61042.000000</td>\n",
       "      <td>61042.0</td>\n",
       "      <td>61042.000000</td>\n",
       "      <td>61042.000000</td>\n",
       "      <td>61042.0</td>\n",
       "      <td>61042.000000</td>\n",
       "      <td>61042.000000</td>\n",
       "      <td>61042.000000</td>\n",
       "      <td>61042.000000</td>\n",
       "      <td>61042.000000</td>\n",
       "    </tr>\n",
       "    <tr>\n",
       "      <th>mean</th>\n",
       "      <td>5.250254</td>\n",
       "      <td>7.253383</td>\n",
       "      <td>9.631434</td>\n",
       "      <td>0.874545</td>\n",
       "      <td>1.0</td>\n",
       "      <td>0.874382</td>\n",
       "      <td>0.623587</td>\n",
       "      <td>1.0</td>\n",
       "      <td>0.768225</td>\n",
       "      <td>0.550097</td>\n",
       "      <td>0.128453</td>\n",
       "      <td>0.457881</td>\n",
       "      <td>516.575636</td>\n",
       "    </tr>\n",
       "    <tr>\n",
       "      <th>std</th>\n",
       "      <td>2.988313</td>\n",
       "      <td>1.783308</td>\n",
       "      <td>4.449554</td>\n",
       "      <td>0.331236</td>\n",
       "      <td>0.0</td>\n",
       "      <td>0.331422</td>\n",
       "      <td>0.484490</td>\n",
       "      <td>0.0</td>\n",
       "      <td>0.421969</td>\n",
       "      <td>0.497488</td>\n",
       "      <td>0.334596</td>\n",
       "      <td>0.498227</td>\n",
       "      <td>411.422946</td>\n",
       "    </tr>\n",
       "    <tr>\n",
       "      <th>min</th>\n",
       "      <td>2.000000</td>\n",
       "      <td>5.000000</td>\n",
       "      <td>5.000000</td>\n",
       "      <td>0.000000</td>\n",
       "      <td>1.0</td>\n",
       "      <td>0.000000</td>\n",
       "      <td>0.000000</td>\n",
       "      <td>1.0</td>\n",
       "      <td>0.000000</td>\n",
       "      <td>0.000000</td>\n",
       "      <td>0.000000</td>\n",
       "      <td>0.000000</td>\n",
       "      <td>0.000000</td>\n",
       "    </tr>\n",
       "    <tr>\n",
       "      <th>25%</th>\n",
       "      <td>3.000000</td>\n",
       "      <td>7.000000</td>\n",
       "      <td>7.000000</td>\n",
       "      <td>1.000000</td>\n",
       "      <td>1.0</td>\n",
       "      <td>1.000000</td>\n",
       "      <td>0.000000</td>\n",
       "      <td>1.0</td>\n",
       "      <td>1.000000</td>\n",
       "      <td>0.000000</td>\n",
       "      <td>0.000000</td>\n",
       "      <td>0.000000</td>\n",
       "      <td>207.000000</td>\n",
       "    </tr>\n",
       "    <tr>\n",
       "      <th>50%</th>\n",
       "      <td>5.000000</td>\n",
       "      <td>7.000000</td>\n",
       "      <td>10.000000</td>\n",
       "      <td>1.000000</td>\n",
       "      <td>1.0</td>\n",
       "      <td>1.000000</td>\n",
       "      <td>1.000000</td>\n",
       "      <td>1.0</td>\n",
       "      <td>1.000000</td>\n",
       "      <td>1.000000</td>\n",
       "      <td>0.000000</td>\n",
       "      <td>0.000000</td>\n",
       "      <td>357.000000</td>\n",
       "    </tr>\n",
       "    <tr>\n",
       "      <th>75%</th>\n",
       "      <td>5.000000</td>\n",
       "      <td>10.000000</td>\n",
       "      <td>10.000000</td>\n",
       "      <td>1.000000</td>\n",
       "      <td>1.0</td>\n",
       "      <td>1.000000</td>\n",
       "      <td>1.000000</td>\n",
       "      <td>1.0</td>\n",
       "      <td>1.000000</td>\n",
       "      <td>1.000000</td>\n",
       "      <td>0.000000</td>\n",
       "      <td>1.000000</td>\n",
       "      <td>792.000000</td>\n",
       "    </tr>\n",
       "    <tr>\n",
       "      <th>max</th>\n",
       "      <td>10.000000</td>\n",
       "      <td>10.000000</td>\n",
       "      <td>20.000000</td>\n",
       "      <td>1.000000</td>\n",
       "      <td>1.0</td>\n",
       "      <td>1.000000</td>\n",
       "      <td>1.000000</td>\n",
       "      <td>1.0</td>\n",
       "      <td>1.000000</td>\n",
       "      <td>1.000000</td>\n",
       "      <td>1.000000</td>\n",
       "      <td>1.000000</td>\n",
       "      <td>1823.000000</td>\n",
       "    </tr>\n",
       "  </tbody>\n",
       "</table>\n",
       "</div>"
      ],
      "text/plain": [
       "             reward      duration    difficulty         c_web  c_email  \\\n",
       "count  61042.000000  61042.000000  61042.000000  61042.000000  61042.0   \n",
       "mean       5.250254      7.253383      9.631434      0.874545      1.0   \n",
       "std        2.988313      1.783308      4.449554      0.331236      0.0   \n",
       "min        2.000000      5.000000      5.000000      0.000000      1.0   \n",
       "25%        3.000000      7.000000      7.000000      1.000000      1.0   \n",
       "50%        5.000000      7.000000     10.000000      1.000000      1.0   \n",
       "75%        5.000000     10.000000     10.000000      1.000000      1.0   \n",
       "max       10.000000     10.000000     20.000000      1.000000      1.0   \n",
       "\n",
       "           c_mobile      c_social  offer_received  offer_viewed  \\\n",
       "count  61042.000000  61042.000000         61042.0  61042.000000   \n",
       "mean       0.874382      0.623587             1.0      0.768225   \n",
       "std        0.331422      0.484490             0.0      0.421969   \n",
       "min        0.000000      0.000000             1.0      0.000000   \n",
       "25%        1.000000      0.000000             1.0      1.000000   \n",
       "50%        1.000000      1.000000             1.0      1.000000   \n",
       "75%        1.000000      1.000000             1.0      1.000000   \n",
       "max        1.000000      1.000000             1.0      1.000000   \n",
       "\n",
       "       offer_completed  missing_profile  consciously_complete    delta_days  \n",
       "count     61042.000000     61042.000000          61042.000000  61042.000000  \n",
       "mean          0.550097         0.128453              0.457881    516.575636  \n",
       "std           0.497488         0.334596              0.498227    411.422946  \n",
       "min           0.000000         0.000000              0.000000      0.000000  \n",
       "25%           0.000000         0.000000              0.000000    207.000000  \n",
       "50%           1.000000         0.000000              0.000000    357.000000  \n",
       "75%           1.000000         0.000000              1.000000    792.000000  \n",
       "max           1.000000         1.000000              1.000000   1823.000000  "
      ]
     },
     "execution_count": 41,
     "metadata": {},
     "output_type": "execute_result"
    }
   ],
   "source": [
    "df4.drop(['age', 'income', 'became_member_on'], axis=1).describe()"
   ]
  },
  {
   "cell_type": "code",
   "execution_count": 40,
   "id": "d8b6bddd-c9e4-4ae7-a69a-53732e9ca9de",
   "metadata": {},
   "outputs": [
    {
     "data": {
      "image/png": "[encoded data removed]",
      "text/plain": [
       "<Figure size 1800x864 with 16 Axes>"
      ]
     },
     "metadata": {},
     "output_type": "display_data"
    }
   ],
   "source": [
    "df4.drop(['age', 'income', 'became_member_on'], axis=1).hist(bins=50);"
   ]
  },
  {
   "cell_type": "markdown",
   "id": "a9156ed9-d0c5-4d48-ab8a-c2752014045c",
   "metadata": {},
   "source": [
    "### 4.1.2. Categorical Variable"
   ]
  },
  {
   "cell_type": "code",
   "execution_count": 42,
   "id": "00acfc22-b5ba-43ad-980e-60fba4c43609",
   "metadata": {},
   "outputs": [
    {
     "data": {
      "image/png": "[encoded data removed]",
      "text/plain": [
       "<Figure size 1800x864 with 1 Axes>"
      ]
     },
     "metadata": {},
     "output_type": "display_data"
    }
   ],
   "source": [
    "df_profile['gender'].hist();"
   ]
  },
  {
   "cell_type": "code",
   "execution_count": 43,
   "id": "b412e033-aea0-487d-a920-90b5b2f8bc93",
   "metadata": {},
   "outputs": [
    {
     "data": {
      "image/png": "[encoded data removed]",
      "text/plain": [
       "<Figure size 1800x864 with 1 Axes>"
      ]
     },
     "metadata": {},
     "output_type": "display_data"
    }
   ],
   "source": [
    "df4['offer_type'].hist();"
   ]
  },
  {
   "cell_type": "markdown",
   "id": "6d174d76-c0a4-4c83-806f-591d2a11a994",
   "metadata": {},
   "source": [
    "## 4.2. Bivariate Analysis\n",
    "### Hypothesis:\n",
    "**1. Age does not interfere with the completeness of the offers**    \n",
    "**2. Gender does not interfere with the completeness of the offers**   \n",
    "**3. People with the highest income complete more offers**  "
   ]
  },
  {
   "cell_type": "markdown",
   "id": "917fcccb-9172-4efd-8ea2-d1edf3b62d2a",
   "metadata": {},
   "source": [
    "### 1. Age does not interfere with the completeness of the offers"
   ]
  },
  {
   "cell_type": "code",
   "execution_count": 264,
   "id": "2c0ab6cc-9b6c-4e43-9542-1e06919b5119",
   "metadata": {},
   "outputs": [],
   "source": [
    "aux = df4[['age', 'consciously_complete']].groupby('age').agg(['sum', 'count', 'mean']).consciously_complete.reset_index()"
   ]
  },
  {
   "cell_type": "code",
   "execution_count": 265,
   "id": "159da3c6-8343-49f1-95ed-aea657fa62c6",
   "metadata": {},
   "outputs": [],
   "source": [
    "aux_2 = aux.copy()\n",
    "\n",
    "q1 = np.quantile(aux['mean'].values, .25)\n",
    "q3 = np.quantile(aux['mean'].values, .75)\n",
    "\n",
    "iqr = q3-q1\n",
    "\n",
    "upper = q3 + (1.5*iqr)\n",
    "lower = q1 - (1.5*iqr)\n",
    "\n",
    "for index, row in aux_2.iterrows():\n",
    "    if row['mean'] > upper or row['mean'] < lower:\n",
    "        aux_2.drop(index, inplace=True)"
   ]
  },
  {
   "cell_type": "code",
   "execution_count": 266,
   "id": "5606fa09-f7a5-48c6-b771-0d33a5f257af",
   "metadata": {},
   "outputs": [
    {
     "data": {
      "text/plain": [
       "<AxesSubplot:xlabel='age', ylabel='mean'>"
      ]
     },
     "execution_count": 317,
     "metadata": {},
     "output_type": "execute_result"
    },
    {
     "data": {
      "image/png": "[encoded data removed]",
      "text/plain": [
       "<Figure size 1800x864 with 2 Axes>"
      ]
     },
     "metadata": {},
     "output_type": "display_data"
    }
   ],
   "source": [
    "grid = plt.GridSpec(1, 2)\n",
    "\n",
    "plt.subplot(grid[0, 0])\n",
    "a = sns.boxplot(x=df4['consciously_complete'], y=df4['age'])\n",
    "\n",
    "plt.subplot(grid[0, 1])\n",
    "sns.regplot(x=aux_2['age'], y=aux_2['mean'])"
   ]
  },
  {
   "cell_type": "code",
   "execution_count": 320,
   "id": "0f9852f1-9019-4abe-a868-d901ef4d356c",
   "metadata": {},
   "outputs": [
    {
     "data": {
      "image/png": "[encoded data removed]",
      "text/plain": [
       "<Figure size 1800x864 with 1 Axes>"
      ]
     },
     "metadata": {},
     "output_type": "display_data"
    }
   ],
   "source": [
    "sns.barplot(x=aux_2['age'], y=aux_2['mean'], palette=sns.color_palette('Blues', 1))\n",
    "\n",
    "plt.xticks(np.arange(min(aux_2['age']) -15, max(aux_2['age']) - 20, 10))\n",
    "plt.title('Percentage of offer who converted by age people')\n",
    "plt.ylabel('Conversion Percentage')\n",
    "plt.xlabel('Age')\n",
    "\n",
    "plt.savefig('img/age')"
   ]
  },
  {
   "cell_type": "markdown",
   "id": "40bc4981-44cd-411b-9e44-0796b754f9c7",
   "metadata": {},
   "source": [
    "### 2. Gender does not interfere with the completeness of the offers"
   ]
  },
  {
   "cell_type": "code",
   "execution_count": 291,
   "id": "204bab6a-9321-41ff-ad5a-86bc47692360",
   "metadata": {},
   "outputs": [],
   "source": [
    "aux = df4[['gender', 'consciously_complete']].groupby('gender').agg(['sum', 'count', 'mean']).consciously_complete.reset_index().sort_values(by='mean', ascending=False)"
   ]
  },
  {
   "cell_type": "code",
   "execution_count": 292,
   "id": "0d6d6246-0dbe-4c56-b633-ac69f2b7feee",
   "metadata": {},
   "outputs": [
    {
     "data": {
      "text/html": [
       "<div>\n",
       "<style scoped>\n",
       "    .dataframe tbody tr th:only-of-type {\n",
       "        vertical-align: middle;\n",
       "    }\n",
       "\n",
       "    .dataframe tbody tr th {\n",
       "        vertical-align: top;\n",
       "    }\n",
       "\n",
       "    .dataframe thead th {\n",
       "        text-align: right;\n",
       "    }\n",
       "</style>\n",
       "<table border=\"1\" class=\"dataframe\">\n",
       "  <thead>\n",
       "    <tr style=\"text-align: right;\">\n",
       "      <th></th>\n",
       "      <th>gender</th>\n",
       "      <th>sum</th>\n",
       "      <th>count</th>\n",
       "      <th>mean</th>\n",
       "    </tr>\n",
       "  </thead>\n",
       "  <tbody>\n",
       "    <tr>\n",
       "      <th>2</th>\n",
       "      <td>O</td>\n",
       "      <td>453</td>\n",
       "      <td>721</td>\n",
       "      <td>0.628294</td>\n",
       "    </tr>\n",
       "    <tr>\n",
       "      <th>0</th>\n",
       "      <td>F</td>\n",
       "      <td>12654</td>\n",
       "      <td>21918</td>\n",
       "      <td>0.577334</td>\n",
       "    </tr>\n",
       "    <tr>\n",
       "      <th>1</th>\n",
       "      <td>M</td>\n",
       "      <td>13814</td>\n",
       "      <td>30562</td>\n",
       "      <td>0.451999</td>\n",
       "    </tr>\n",
       "    <tr>\n",
       "      <th>3</th>\n",
       "      <td>unknown</td>\n",
       "      <td>1029</td>\n",
       "      <td>7841</td>\n",
       "      <td>0.131233</td>\n",
       "    </tr>\n",
       "  </tbody>\n",
       "</table>\n",
       "</div>"
      ],
      "text/plain": [
       "    gender    sum  count      mean\n",
       "2        O    453    721  0.628294\n",
       "0        F  12654  21918  0.577334\n",
       "1        M  13814  30562  0.451999\n",
       "3  unknown   1029   7841  0.131233"
      ]
     },
     "execution_count": 292,
     "metadata": {},
     "output_type": "execute_result"
    }
   ],
   "source": [
    "aux"
   ]
  },
  {
   "cell_type": "code",
   "execution_count": 294,
   "id": "4b1e2ad0-7e25-4daa-9d47-6c5e4893cf4e",
   "metadata": {},
   "outputs": [
    {
     "data": {
      "image/png": "[encoded data removed]",
      "text/plain": [
       "<Figure size 1800x864 with 1 Axes>"
      ]
     },
     "metadata": {},
     "output_type": "display_data"
    }
   ],
   "source": [
    "palettes = sns.color_palette('Blues_d', n_colors=4)[::-1]\n",
    "sns.barplot(x=aux['gender'], y=aux['mean'], palette=palettes)\n",
    "\n",
    "plt.title('Percentage of offer who converted by gender people')\n",
    "plt.ylabel('Conversion Percentage')\n",
    "plt.xlabel('Gender')\n",
    "\n",
    "plt.savefig('img/gender')"
   ]
  },
  {
   "cell_type": "markdown",
   "id": "518a3e67-ac19-4fbf-941e-3b5321656e0a",
   "metadata": {},
   "source": [
    "### 3. People with the highest income complete more offers"
   ]
  },
  {
   "cell_type": "code",
   "execution_count": 295,
   "id": "fcfdc308-5d36-436b-887f-4d3f4fb0aae9",
   "metadata": {},
   "outputs": [],
   "source": [
    "aux = df4[['income', 'consciously_complete']].groupby('income').agg(['sum', 'count', 'mean']).consciously_complete.reset_index().sort_values(by='mean', ascending=False)"
   ]
  },
  {
   "cell_type": "code",
   "execution_count": 296,
   "id": "d00f55a3-6395-4a1a-9295-7210ad95b31c",
   "metadata": {},
   "outputs": [],
   "source": [
    "aux_2 = aux.copy()\n",
    "\n",
    "q1 = np.quantile(aux['mean'].values, .25)\n",
    "q3 = np.quantile(aux['mean'].values, .75)\n",
    "\n",
    "iqr = q3-q1\n",
    "\n",
    "upper = q3 + (1.5*iqr)\n",
    "lower = q1 - (1.5*iqr)\n",
    "\n",
    "for index, row in aux_2.iterrows():\n",
    "    if row['mean'] > upper or row['mean'] < lower:\n",
    "        aux_2.drop(index, inplace=True)"
   ]
  },
  {
   "cell_type": "code",
   "execution_count": 297,
   "id": "cee96198-c8f4-434e-9d59-8944f657f5ab",
   "metadata": {},
   "outputs": [
    {
     "data": {
      "text/plain": [
       "<AxesSubplot:xlabel='income', ylabel='mean'>"
      ]
     },
     "execution_count": 297,
     "metadata": {},
     "output_type": "execute_result"
    },
    {
     "data": {
      "image/png": "[encoded data removed]",
      "text/plain": [
       "<Figure size 1800x864 with 2 Axes>"
      ]
     },
     "metadata": {},
     "output_type": "display_data"
    }
   ],
   "source": [
    "grid = plt.GridSpec(1, 2)\n",
    "\n",
    "plt.subplot(grid[0, 0])\n",
    "a = sns.boxplot(x=df4['consciously_complete'], y=df4['age'])\n",
    "\n",
    "plt.subplot(grid[0, 1])\n",
    "sns.regplot(x=aux_2['income'], y=aux_2['mean'])"
   ]
  },
  {
   "cell_type": "code",
   "execution_count": 301,
   "id": "b8db30ba-a338-495c-8006-c68095daeb8c",
   "metadata": {},
   "outputs": [
    {
     "data": {
      "text/html": [
       "<div>\n",
       "<style scoped>\n",
       "    .dataframe tbody tr th:only-of-type {\n",
       "        vertical-align: middle;\n",
       "    }\n",
       "\n",
       "    .dataframe tbody tr th {\n",
       "        vertical-align: top;\n",
       "    }\n",
       "\n",
       "    .dataframe thead th {\n",
       "        text-align: right;\n",
       "    }\n",
       "</style>\n",
       "<table border=\"1\" class=\"dataframe\">\n",
       "  <thead>\n",
       "    <tr style=\"text-align: right;\">\n",
       "      <th></th>\n",
       "      <th>income</th>\n",
       "      <th>sum</th>\n",
       "      <th>count</th>\n",
       "      <th>mean</th>\n",
       "    </tr>\n",
       "  </thead>\n",
       "  <tbody>\n",
       "    <tr>\n",
       "      <th>69</th>\n",
       "      <td>99000.0</td>\n",
       "      <td>298</td>\n",
       "      <td>439</td>\n",
       "      <td>0.678815</td>\n",
       "    </tr>\n",
       "    <tr>\n",
       "      <th>56</th>\n",
       "      <td>86000.0</td>\n",
       "      <td>305</td>\n",
       "      <td>454</td>\n",
       "      <td>0.671806</td>\n",
       "    </tr>\n",
       "    <tr>\n",
       "      <th>67</th>\n",
       "      <td>97000.0</td>\n",
       "      <td>296</td>\n",
       "      <td>445</td>\n",
       "      <td>0.665169</td>\n",
       "    </tr>\n",
       "    <tr>\n",
       "      <th>55</th>\n",
       "      <td>85000.0</td>\n",
       "      <td>358</td>\n",
       "      <td>540</td>\n",
       "      <td>0.662963</td>\n",
       "    </tr>\n",
       "    <tr>\n",
       "      <th>57</th>\n",
       "      <td>87000.0</td>\n",
       "      <td>369</td>\n",
       "      <td>560</td>\n",
       "      <td>0.658929</td>\n",
       "    </tr>\n",
       "    <tr>\n",
       "      <th>...</th>\n",
       "      <td>...</td>\n",
       "      <td>...</td>\n",
       "      <td>...</td>\n",
       "      <td>...</td>\n",
       "    </tr>\n",
       "    <tr>\n",
       "      <th>8</th>\n",
       "      <td>38000.0</td>\n",
       "      <td>230</td>\n",
       "      <td>658</td>\n",
       "      <td>0.349544</td>\n",
       "    </tr>\n",
       "    <tr>\n",
       "      <th>2</th>\n",
       "      <td>32000.0</td>\n",
       "      <td>281</td>\n",
       "      <td>809</td>\n",
       "      <td>0.347342</td>\n",
       "    </tr>\n",
       "    <tr>\n",
       "      <th>6</th>\n",
       "      <td>36000.0</td>\n",
       "      <td>238</td>\n",
       "      <td>703</td>\n",
       "      <td>0.338549</td>\n",
       "    </tr>\n",
       "    <tr>\n",
       "      <th>5</th>\n",
       "      <td>35000.0</td>\n",
       "      <td>247</td>\n",
       "      <td>765</td>\n",
       "      <td>0.322876</td>\n",
       "    </tr>\n",
       "    <tr>\n",
       "      <th>0</th>\n",
       "      <td>30000.0</td>\n",
       "      <td>100</td>\n",
       "      <td>315</td>\n",
       "      <td>0.317460</td>\n",
       "    </tr>\n",
       "  </tbody>\n",
       "</table>\n",
       "<p>89 rows × 4 columns</p>\n",
       "</div>"
      ],
      "text/plain": [
       "     income  sum  count      mean\n",
       "69  99000.0  298    439  0.678815\n",
       "56  86000.0  305    454  0.671806\n",
       "67  97000.0  296    445  0.665169\n",
       "55  85000.0  358    540  0.662963\n",
       "57  87000.0  369    560  0.658929\n",
       "..      ...  ...    ...       ...\n",
       "8   38000.0  230    658  0.349544\n",
       "2   32000.0  281    809  0.347342\n",
       "6   36000.0  238    703  0.338549\n",
       "5   35000.0  247    765  0.322876\n",
       "0   30000.0  100    315  0.317460\n",
       "\n",
       "[89 rows x 4 columns]"
      ]
     },
     "execution_count": 301,
     "metadata": {},
     "output_type": "execute_result"
    }
   ],
   "source": [
    "aux_2"
   ]
  },
  {
   "cell_type": "code",
   "execution_count": 312,
   "id": "ef9c07bf-d43b-4759-b10b-e90349f8a8ef",
   "metadata": {},
   "outputs": [],
   "source": [
    "from matplotlib.ticker import MaxNLocator"
   ]
  },
  {
   "cell_type": "code",
   "execution_count": 314,
   "id": "c0053fef-fb29-4c2b-96f1-b3cae70be607",
   "metadata": {},
   "outputs": [
    {
     "data": {
      "image/png": "[encoded data removed]",
      "text/plain": [
       "<Figure size 1800x864 with 1 Axes>"
      ]
     },
     "metadata": {},
     "output_type": "display_data"
    }
   ],
   "source": [
    "fig, axes = plt.subplots()\n",
    "sns.barplot(x=aux_2['income'], y=aux_2['mean'], palette=sns.color_palette('Blues', 1))\n",
    "\n",
    "axes.xaxis.set_major_locator(MaxNLocator(5)) \n",
    "plt.title('Percentage of offer who converted by income people')\n",
    "plt.ylabel('Conversion Percentage')\n",
    "plt.xlabel('Income')\n",
    "\n",
    "plt.savefig('img/income')"
   ]
  },
  {
   "cell_type": "markdown",
   "id": "a3d16e9a-4d21-4b17-8df0-e9003792e397",
   "metadata": {},
   "source": [
    "# 5.0. Data Pre-Processing"
   ]
  },
  {
   "cell_type": "code",
   "execution_count": 54,
   "id": "377d87ad-5b40-4eba-8fc4-8db23c481bb4",
   "metadata": {},
   "outputs": [],
   "source": [
    "df5 = df4.copy()"
   ]
  },
  {
   "cell_type": "code",
   "execution_count": 55,
   "id": "c202fb45-9938-442c-b5ad-fe36f3d8c20c",
   "metadata": {},
   "outputs": [
    {
     "data": {
      "text/html": [
       "<div>\n",
       "<style scoped>\n",
       "    .dataframe tbody tr th:only-of-type {\n",
       "        vertical-align: middle;\n",
       "    }\n",
       "\n",
       "    .dataframe tbody tr th {\n",
       "        vertical-align: top;\n",
       "    }\n",
       "\n",
       "    .dataframe thead th {\n",
       "        text-align: right;\n",
       "    }\n",
       "</style>\n",
       "<table border=\"1\" class=\"dataframe\">\n",
       "  <thead>\n",
       "    <tr style=\"text-align: right;\">\n",
       "      <th></th>\n",
       "      <th>person</th>\n",
       "      <th>age</th>\n",
       "      <th>gender</th>\n",
       "      <th>income</th>\n",
       "      <th>became_member_on</th>\n",
       "      <th>code</th>\n",
       "      <th>offer_type</th>\n",
       "      <th>reward</th>\n",
       "      <th>duration</th>\n",
       "      <th>difficulty</th>\n",
       "      <th>c_web</th>\n",
       "      <th>c_email</th>\n",
       "      <th>c_mobile</th>\n",
       "      <th>c_social</th>\n",
       "      <th>offer_received</th>\n",
       "      <th>offer_viewed</th>\n",
       "      <th>offer_completed</th>\n",
       "      <th>missing_profile</th>\n",
       "      <th>consciously_complete</th>\n",
       "      <th>delta_days</th>\n",
       "    </tr>\n",
       "  </thead>\n",
       "  <tbody>\n",
       "    <tr>\n",
       "      <th>0</th>\n",
       "      <td>0009655768c64bdeb2e877511632db8f</td>\n",
       "      <td>33.0</td>\n",
       "      <td>M</td>\n",
       "      <td>72000.0</td>\n",
       "      <td>2017-04-21</td>\n",
       "      <td>2906b810c7d4411798c6938adc9daaa5</td>\n",
       "      <td>discount</td>\n",
       "      <td>2</td>\n",
       "      <td>7</td>\n",
       "      <td>10</td>\n",
       "      <td>1</td>\n",
       "      <td>1</td>\n",
       "      <td>1</td>\n",
       "      <td>0</td>\n",
       "      <td>1</td>\n",
       "      <td>0</td>\n",
       "      <td>1</td>\n",
       "      <td>0</td>\n",
       "      <td>0</td>\n",
       "      <td>461</td>\n",
       "    </tr>\n",
       "    <tr>\n",
       "      <th>1</th>\n",
       "      <td>00426fe3ffde4c6b9cb9ad6d077a13ea</td>\n",
       "      <td>19.0</td>\n",
       "      <td>F</td>\n",
       "      <td>65000.0</td>\n",
       "      <td>2016-08-09</td>\n",
       "      <td>2906b810c7d4411798c6938adc9daaa5</td>\n",
       "      <td>discount</td>\n",
       "      <td>2</td>\n",
       "      <td>7</td>\n",
       "      <td>10</td>\n",
       "      <td>1</td>\n",
       "      <td>1</td>\n",
       "      <td>1</td>\n",
       "      <td>0</td>\n",
       "      <td>1</td>\n",
       "      <td>0</td>\n",
       "      <td>0</td>\n",
       "      <td>0</td>\n",
       "      <td>0</td>\n",
       "      <td>716</td>\n",
       "    </tr>\n",
       "    <tr>\n",
       "      <th>2</th>\n",
       "      <td>00426fe3ffde4c6b9cb9ad6d077a13ea</td>\n",
       "      <td>19.0</td>\n",
       "      <td>F</td>\n",
       "      <td>65000.0</td>\n",
       "      <td>2016-08-09</td>\n",
       "      <td>2906b810c7d4411798c6938adc9daaa5</td>\n",
       "      <td>discount</td>\n",
       "      <td>2</td>\n",
       "      <td>7</td>\n",
       "      <td>10</td>\n",
       "      <td>1</td>\n",
       "      <td>1</td>\n",
       "      <td>1</td>\n",
       "      <td>0</td>\n",
       "      <td>1</td>\n",
       "      <td>0</td>\n",
       "      <td>0</td>\n",
       "      <td>0</td>\n",
       "      <td>0</td>\n",
       "      <td>716</td>\n",
       "    </tr>\n",
       "    <tr>\n",
       "      <th>3</th>\n",
       "      <td>005500a7188546ff8a767329a2f7c76a</td>\n",
       "      <td>56.0</td>\n",
       "      <td>M</td>\n",
       "      <td>47000.0</td>\n",
       "      <td>2017-12-09</td>\n",
       "      <td>2906b810c7d4411798c6938adc9daaa5</td>\n",
       "      <td>discount</td>\n",
       "      <td>2</td>\n",
       "      <td>7</td>\n",
       "      <td>10</td>\n",
       "      <td>1</td>\n",
       "      <td>1</td>\n",
       "      <td>1</td>\n",
       "      <td>0</td>\n",
       "      <td>1</td>\n",
       "      <td>0</td>\n",
       "      <td>0</td>\n",
       "      <td>0</td>\n",
       "      <td>0</td>\n",
       "      <td>229</td>\n",
       "    </tr>\n",
       "    <tr>\n",
       "      <th>4</th>\n",
       "      <td>0069a50874d846438e58acff5e594725</td>\n",
       "      <td>NaN</td>\n",
       "      <td>unknown</td>\n",
       "      <td>NaN</td>\n",
       "      <td>2016-05-03</td>\n",
       "      <td>2906b810c7d4411798c6938adc9daaa5</td>\n",
       "      <td>discount</td>\n",
       "      <td>2</td>\n",
       "      <td>7</td>\n",
       "      <td>10</td>\n",
       "      <td>1</td>\n",
       "      <td>1</td>\n",
       "      <td>1</td>\n",
       "      <td>0</td>\n",
       "      <td>1</td>\n",
       "      <td>1</td>\n",
       "      <td>1</td>\n",
       "      <td>1</td>\n",
       "      <td>1</td>\n",
       "      <td>814</td>\n",
       "    </tr>\n",
       "  </tbody>\n",
       "</table>\n",
       "</div>"
      ],
      "text/plain": [
       "                             person   age   gender   income became_member_on  \\\n",
       "0  0009655768c64bdeb2e877511632db8f  33.0        M  72000.0       2017-04-21   \n",
       "1  00426fe3ffde4c6b9cb9ad6d077a13ea  19.0        F  65000.0       2016-08-09   \n",
       "2  00426fe3ffde4c6b9cb9ad6d077a13ea  19.0        F  65000.0       2016-08-09   \n",
       "3  005500a7188546ff8a767329a2f7c76a  56.0        M  47000.0       2017-12-09   \n",
       "4  0069a50874d846438e58acff5e594725   NaN  unknown      NaN       2016-05-03   \n",
       "\n",
       "                               code offer_type  reward  duration  difficulty  \\\n",
       "0  2906b810c7d4411798c6938adc9daaa5   discount       2         7          10   \n",
       "1  2906b810c7d4411798c6938adc9daaa5   discount       2         7          10   \n",
       "2  2906b810c7d4411798c6938adc9daaa5   discount       2         7          10   \n",
       "3  2906b810c7d4411798c6938adc9daaa5   discount       2         7          10   \n",
       "4  2906b810c7d4411798c6938adc9daaa5   discount       2         7          10   \n",
       "\n",
       "   c_web  c_email  c_mobile  c_social  offer_received  offer_viewed  \\\n",
       "0      1        1         1         0               1             0   \n",
       "1      1        1         1         0               1             0   \n",
       "2      1        1         1         0               1             0   \n",
       "3      1        1         1         0               1             0   \n",
       "4      1        1         1         0               1             1   \n",
       "\n",
       "   offer_completed  missing_profile  consciously_complete  delta_days  \n",
       "0                1                0                     0         461  \n",
       "1                0                0                     0         716  \n",
       "2                0                0                     0         716  \n",
       "3                0                0                     0         229  \n",
       "4                1                1                     1         814  "
      ]
     },
     "execution_count": 55,
     "metadata": {},
     "output_type": "execute_result"
    }
   ],
   "source": [
    "df5.head()"
   ]
  },
  {
   "cell_type": "markdown",
   "id": "45719008-64de-4e8a-855a-373b87614793",
   "metadata": {},
   "source": [
    "## 5.1. Filtering Columns\n",
    "\n",
    "Selecting only the columns that will actually be used in the model.   \n",
    "* person and code should be excluded as it has no predictive power.  \n",
    "* offer_received and c_email can be excluded because all values are 1.   \n",
    "* offer_viewed will be excluded because it would generate data leakage, because at the time of prediction we don't know if the user saw it or not."
   ]
  },
  {
   "cell_type": "code",
   "execution_count": 237,
   "id": "ba6587e8-585f-4ec2-8136-920aa7bb56b4",
   "metadata": {},
   "outputs": [],
   "source": [
    "df5 = df4.copy()"
   ]
  },
  {
   "cell_type": "code",
   "execution_count": 238,
   "id": "2378b425-8b11-4200-873b-a2e4635e4177",
   "metadata": {},
   "outputs": [],
   "source": [
    "df5 = df5[['age', 'gender', 'income', 'delta_days', 'offer_type', 'reward', 'duration', \n",
    "           'difficulty', 'c_web', 'c_mobile', 'c_social', 'missing_profile', 'consciously_complete']]"
   ]
  },
  {
   "cell_type": "markdown",
   "id": "b56d34b9-823a-49d2-8884-eb0eb5c3fc37",
   "metadata": {},
   "source": [
    "## 5.2. Encoding\n",
    "The model will not work with categorical data. For this, it is necessary to make a transformation so that they become numerical data.   \n",
    "For this, One Hot Enconde works well for cases with little data, as it transforms each type of input from a categorical column into a new column.   \n",
    "This process will be done on the gender and offer_type columns."
   ]
  },
  {
   "cell_type": "code",
   "execution_count": 57,
   "id": "bb6f66b6-d2f8-4005-8418-0c393e07b800",
   "metadata": {},
   "outputs": [],
   "source": [
    "# gender / offer_type -> One Hot Encoding\n",
    "df5 = pd.get_dummies(df5, 'g_', columns=['gender'])\n",
    "df5 = pd.get_dummies(df5, 'ot_', columns=['offer_type'], drop_first=True)"
   ]
  },
  {
   "cell_type": "code",
   "execution_count": 239,
   "id": "63253151-4306-4a3a-b81a-107e813883bf",
   "metadata": {},
   "outputs": [
    {
     "data": {
      "text/html": [
       "<div>\n",
       "<style scoped>\n",
       "    .dataframe tbody tr th:only-of-type {\n",
       "        vertical-align: middle;\n",
       "    }\n",
       "\n",
       "    .dataframe tbody tr th {\n",
       "        vertical-align: top;\n",
       "    }\n",
       "\n",
       "    .dataframe thead th {\n",
       "        text-align: right;\n",
       "    }\n",
       "</style>\n",
       "<table border=\"1\" class=\"dataframe\">\n",
       "  <thead>\n",
       "    <tr style=\"text-align: right;\">\n",
       "      <th></th>\n",
       "      <th>age</th>\n",
       "      <th>gender</th>\n",
       "      <th>income</th>\n",
       "      <th>delta_days</th>\n",
       "      <th>offer_type</th>\n",
       "      <th>reward</th>\n",
       "      <th>duration</th>\n",
       "      <th>difficulty</th>\n",
       "      <th>c_web</th>\n",
       "      <th>c_mobile</th>\n",
       "      <th>c_social</th>\n",
       "      <th>missing_profile</th>\n",
       "      <th>consciously_complete</th>\n",
       "    </tr>\n",
       "  </thead>\n",
       "  <tbody>\n",
       "    <tr>\n",
       "      <th>0</th>\n",
       "      <td>33.0</td>\n",
       "      <td>M</td>\n",
       "      <td>72000.0</td>\n",
       "      <td>461</td>\n",
       "      <td>discount</td>\n",
       "      <td>2</td>\n",
       "      <td>7</td>\n",
       "      <td>10</td>\n",
       "      <td>1</td>\n",
       "      <td>1</td>\n",
       "      <td>0</td>\n",
       "      <td>0</td>\n",
       "      <td>0</td>\n",
       "    </tr>\n",
       "    <tr>\n",
       "      <th>1</th>\n",
       "      <td>19.0</td>\n",
       "      <td>F</td>\n",
       "      <td>65000.0</td>\n",
       "      <td>716</td>\n",
       "      <td>discount</td>\n",
       "      <td>2</td>\n",
       "      <td>7</td>\n",
       "      <td>10</td>\n",
       "      <td>1</td>\n",
       "      <td>1</td>\n",
       "      <td>0</td>\n",
       "      <td>0</td>\n",
       "      <td>0</td>\n",
       "    </tr>\n",
       "    <tr>\n",
       "      <th>2</th>\n",
       "      <td>19.0</td>\n",
       "      <td>F</td>\n",
       "      <td>65000.0</td>\n",
       "      <td>716</td>\n",
       "      <td>discount</td>\n",
       "      <td>2</td>\n",
       "      <td>7</td>\n",
       "      <td>10</td>\n",
       "      <td>1</td>\n",
       "      <td>1</td>\n",
       "      <td>0</td>\n",
       "      <td>0</td>\n",
       "      <td>0</td>\n",
       "    </tr>\n",
       "    <tr>\n",
       "      <th>3</th>\n",
       "      <td>56.0</td>\n",
       "      <td>M</td>\n",
       "      <td>47000.0</td>\n",
       "      <td>229</td>\n",
       "      <td>discount</td>\n",
       "      <td>2</td>\n",
       "      <td>7</td>\n",
       "      <td>10</td>\n",
       "      <td>1</td>\n",
       "      <td>1</td>\n",
       "      <td>0</td>\n",
       "      <td>0</td>\n",
       "      <td>0</td>\n",
       "    </tr>\n",
       "    <tr>\n",
       "      <th>4</th>\n",
       "      <td>NaN</td>\n",
       "      <td>unknown</td>\n",
       "      <td>NaN</td>\n",
       "      <td>814</td>\n",
       "      <td>discount</td>\n",
       "      <td>2</td>\n",
       "      <td>7</td>\n",
       "      <td>10</td>\n",
       "      <td>1</td>\n",
       "      <td>1</td>\n",
       "      <td>0</td>\n",
       "      <td>1</td>\n",
       "      <td>1</td>\n",
       "    </tr>\n",
       "  </tbody>\n",
       "</table>\n",
       "</div>"
      ],
      "text/plain": [
       "    age   gender   income  delta_days offer_type  reward  duration  \\\n",
       "0  33.0        M  72000.0         461   discount       2         7   \n",
       "1  19.0        F  65000.0         716   discount       2         7   \n",
       "2  19.0        F  65000.0         716   discount       2         7   \n",
       "3  56.0        M  47000.0         229   discount       2         7   \n",
       "4   NaN  unknown      NaN         814   discount       2         7   \n",
       "\n",
       "   difficulty  c_web  c_mobile  c_social  missing_profile  \\\n",
       "0          10      1         1         0                0   \n",
       "1          10      1         1         0                0   \n",
       "2          10      1         1         0                0   \n",
       "3          10      1         1         0                0   \n",
       "4          10      1         1         0                1   \n",
       "\n",
       "   consciously_complete  \n",
       "0                     0  \n",
       "1                     0  \n",
       "2                     0  \n",
       "3                     0  \n",
       "4                     1  "
      ]
     },
     "execution_count": 239,
     "metadata": {},
     "output_type": "execute_result"
    }
   ],
   "source": [
    "df5.head()"
   ]
  },
  {
   "cell_type": "markdown",
   "id": "9666ed13-df4c-4ca1-aaa5-33007acff3cd",
   "metadata": {},
   "source": [
    "# 5.3. Split Dataset\n",
    "To evaluate our model, we must separate training and test data. The training data will only be used at the end for the model evaluation.   \n",
    "This separation will follow the 80/20 rule. 80% of the data will be used for training and 20% for testing. This is my choice as the test data could be a higher percentage. However, due to the smaller amount of data I chose 20% for testing."
   ]
  },
  {
   "cell_type": "code",
   "execution_count": 59,
   "id": "f36f5c22-c5bd-44cf-8c99-91d0b0af9fb9",
   "metadata": {},
   "outputs": [],
   "source": [
    "# Separating response variable\n",
    "X = df5.drop('consciously_complete', axis=1)\n",
    "y = df5.loc[:, 'consciously_complete']"
   ]
  },
  {
   "cell_type": "code",
   "execution_count": 60,
   "id": "469ea9d6-2375-4f05-8a78-dc474b00d914",
   "metadata": {},
   "outputs": [],
   "source": [
    "X_train, X_test, y_train, y_test = ms.train_test_split(X, y, test_size=0.2, random_state=32, stratify=y)"
   ]
  },
  {
   "cell_type": "markdown",
   "id": "35f6b763-259d-43b4-a97d-dbbf0bc22e9b",
   "metadata": {},
   "source": [
    "## 5.4. Feature Selection\n",
    "Not all features are important for our model. Some can even make it worse. There are some techniques to find out which features are most important for the case. Two will be used in this project:\n",
    "1. Manual Feature Selecion\n",
    "2. RFE"
   ]
  },
  {
   "cell_type": "markdown",
   "id": "7505d847-82f4-4060-aab5-b1fcf259b157",
   "metadata": {},
   "source": [
    "## 5.4.1. Feature Importance"
   ]
  },
  {
   "cell_type": "code",
   "execution_count": 61,
   "id": "03f880ca-5e8e-4114-8643-5c948a81d73d",
   "metadata": {},
   "outputs": [],
   "source": [
    "def train_pipeline(X_train, y_train, model):\n",
    "    imp = SimpleImputer(missing_values=np.nan, strategy='mean')\n",
    "    \n",
    "    pipeline = Pipeline([\n",
    "        ('imp', imp),\n",
    "        ('clf', model)\n",
    "    ])\n",
    "    \n",
    "    pipeline.fit(X_train, y_train)\n",
    "    \n",
    "    return pipeline"
   ]
  },
  {
   "cell_type": "code",
   "execution_count": 62,
   "id": "93937b89-4a6e-441e-b4ce-cb3c81597604",
   "metadata": {},
   "outputs": [],
   "source": [
    "rf_model = en.RandomForestClassifier(n_jobs=-1)\n",
    "model = train_pipeline(X_train, y_train, rf_model)"
   ]
  },
  {
   "cell_type": "code",
   "execution_count": 63,
   "id": "afec4d17-cede-4d33-a1ca-a0a6e6da119a",
   "metadata": {},
   "outputs": [
    {
     "data": {
      "text/plain": [
       "<AxesSubplot:>"
      ]
     },
     "execution_count": 63,
     "metadata": {},
     "output_type": "execute_result"
    },
    {
     "data": {
      "image/png": "[encoded data removed]",
      "text/plain": [
       "<Figure size 1800x864 with 1 Axes>"
      ]
     },
     "metadata": {},
     "output_type": "display_data"
    }
   ],
   "source": [
    "# feature importances\n",
    "feat_importances = pd.Series(model.steps[1][1].feature_importances_, index=X_train.columns)\n",
    "\n",
    "# plot feature importances\n",
    "feat_importances.sort_values().plot(kind='barh')"
   ]
  },
  {
   "cell_type": "code",
   "execution_count": 64,
   "id": "22d58974-1c99-4dcb-85b3-ce8606d81ce7",
   "metadata": {},
   "outputs": [],
   "source": [
    "rfe_model = fs.RFE(estimator=model.steps[1][1], n_features_to_select=5)\n",
    "model = train_pipeline(X_train, y_train, rfe_model)"
   ]
  },
  {
   "cell_type": "code",
   "execution_count": 65,
   "id": "67e08e56-eadb-46a1-bf4b-1b5381820300",
   "metadata": {},
   "outputs": [
    {
     "name": "stdout",
     "output_type": "stream",
     "text": [
      "age - Rank: 1\n",
      "income - Rank: 1\n",
      "delta_days - Rank: 1\n",
      "reward - Rank: 1\n",
      "duration - Rank: 5\n",
      "difficulty - Rank: 4\n",
      "c_web - Rank: 10\n",
      "c_mobile - Rank: 7\n",
      "c_social - Rank: 1\n",
      "missing_profile - Rank: 2\n",
      "g__F - Rank: 8\n",
      "g__M - Rank: 6\n",
      "g__O - Rank: 11\n",
      "g__unknown - Rank: 3\n",
      "ot__discount - Rank: 9\n"
     ]
    }
   ],
   "source": [
    "# show values\n",
    "for i in range(X_train.shape[1]):\n",
    "    print('{} - Rank: {}'.format(X_train.columns[i], model.steps[1][1].ranking_[i]))"
   ]
  },
  {
   "cell_type": "markdown",
   "id": "ef362096-55c6-4ef1-a3e5-f33dac8655d8",
   "metadata": {},
   "source": [
    "## 5.4.2. Selecting Features \n",
    "I will select only the 8 columns that performed best in both tests."
   ]
  },
  {
   "cell_type": "code",
   "execution_count": 66,
   "id": "9613d28c-006f-40f1-8c80-717bcba5bfa5",
   "metadata": {},
   "outputs": [],
   "source": [
    "features = ['age', 'income', 'delta_days', 'reward', 'difficulty',\n",
    "            'duration', 'c_social', 'g__unknown', 'g__F']\n",
    "\n",
    "X_train = X_train[features]\n",
    "X_test = X_test[features]"
   ]
  },
  {
   "cell_type": "markdown",
   "id": "15dec36c-c2ad-4aad-acf7-2398ec35876f",
   "metadata": {},
   "source": [
    "# 6.0. Model\n",
    "To create the model, I will use four classification models and choose the one with the best overall performance.   \n",
    "To impute the missing data, I will use the averaging strategy.   \n",
    "Cross validation will be used to divide the training data into Training and Validation. There will be 5 divisions and the final result of the metric will be the average of these 5.   \n",
    "The metrics used will be:\n",
    "* Accuracy\n",
    "* Precision\n",
    "* Recall\n",
    "* F1\n",
    "* ROC/AUC\n",
    "\n",
    "**LGBM, Catboost and XGB performed very similarly. To continue, I will initially use XGBoost because I believe that the performance can have a higher increase than the others in the tuning of hyperparameters.**"
   ]
  },
  {
   "cell_type": "code",
   "execution_count": 241,
   "id": "1bcccd2d-c79c-4d59-932c-4f0c36daa4c2",
   "metadata": {},
   "outputs": [],
   "source": [
    "def evaluate_models(X, y, list_models, cv_iter=5, imput_strat='mean'):\n",
    "    \"\"\"\n",
    "    Evaluates the models listed in Cross validation and returns a dataframe \n",
    "    with the average performance of each metric for each model.\n",
    "    \"\"\"\n",
    "    imp = SimpleImputer(missing_values=np.nan, strategy=imput_strat)\n",
    "    \n",
    "    for count, model in enumerate(list_models):\n",
    "        pipeline = Pipeline([\n",
    "            ('imp', imp),\n",
    "            ('clf', model)\n",
    "        ])\n",
    "\n",
    "        scoring = {'acc': 'accuracy',\n",
    "                   'precision': 'precision',\n",
    "                   'recall': 'recall',\n",
    "                   'f1': 'f1',\n",
    "                   'roc_auc': 'roc_auc'}\n",
    "\n",
    "        scores = ms.cross_validate(pipeline, X, y, cv=cv_iter, scoring=scoring)\n",
    "\n",
    "        if count == 0:\n",
    "            df_scores = pd.DataFrame(pd.DataFrame(scores).mean()).T\n",
    "            df_scores.index = index=[type(model).__name__]\n",
    "\n",
    "        else:\n",
    "            df_aux = pd.DataFrame(pd.DataFrame(scores).mean()).T\n",
    "            df_aux.index = index=[type(model).__name__]\n",
    "            df_scores = pd.concat([df_scores, df_aux])\n",
    "            \n",
    "    return df_scores"
   ]
  },
  {
   "cell_type": "code",
   "execution_count": 68,
   "id": "263140ce-accb-45a3-adde-1b8e2e126f2f",
   "metadata": {},
   "outputs": [],
   "source": [
    "# list of models to show performance in train dataset\n",
    "list_models = [\n",
    "    lm.LogisticRegression(random_state=32),\n",
    "    LGBMClassifier(n_jobs=-1, random_state=32),\n",
    "    cb.CatBoostClassifier(verbose=0, random_state=32),\n",
    "    xgboost.XGBClassifier(n_jobs=-1, random_state=32), \n",
    "]"
   ]
  },
  {
   "cell_type": "code",
   "execution_count": 69,
   "id": "64361783-194f-4ba2-80cf-413a48648d4c",
   "metadata": {},
   "outputs": [
    {
     "data": {
      "text/html": [
       "<div>\n",
       "<style scoped>\n",
       "    .dataframe tbody tr th:only-of-type {\n",
       "        vertical-align: middle;\n",
       "    }\n",
       "\n",
       "    .dataframe tbody tr th {\n",
       "        vertical-align: top;\n",
       "    }\n",
       "\n",
       "    .dataframe thead th {\n",
       "        text-align: right;\n",
       "    }\n",
       "</style>\n",
       "<table border=\"1\" class=\"dataframe\">\n",
       "  <thead>\n",
       "    <tr style=\"text-align: right;\">\n",
       "      <th></th>\n",
       "      <th>fit_time</th>\n",
       "      <th>score_time</th>\n",
       "      <th>test_acc</th>\n",
       "      <th>test_precision</th>\n",
       "      <th>test_recall</th>\n",
       "      <th>test_f1</th>\n",
       "      <th>test_roc_auc</th>\n",
       "    </tr>\n",
       "  </thead>\n",
       "  <tbody>\n",
       "    <tr>\n",
       "      <th>LogisticRegression</th>\n",
       "      <td>0.187680</td>\n",
       "      <td>0.022442</td>\n",
       "      <td>0.621035</td>\n",
       "      <td>0.593230</td>\n",
       "      <td>0.548301</td>\n",
       "      <td>0.569838</td>\n",
       "      <td>0.667856</td>\n",
       "    </tr>\n",
       "    <tr>\n",
       "      <th>LGBMClassifier</th>\n",
       "      <td>0.156411</td>\n",
       "      <td>0.026567</td>\n",
       "      <td>0.736531</td>\n",
       "      <td>0.730651</td>\n",
       "      <td>0.672540</td>\n",
       "      <td>0.700380</td>\n",
       "      <td>0.816259</td>\n",
       "    </tr>\n",
       "    <tr>\n",
       "      <th>CatBoostClassifier</th>\n",
       "      <td>3.616485</td>\n",
       "      <td>0.021844</td>\n",
       "      <td>0.736674</td>\n",
       "      <td>0.727690</td>\n",
       "      <td>0.679114</td>\n",
       "      <td>0.702535</td>\n",
       "      <td>0.817584</td>\n",
       "    </tr>\n",
       "    <tr>\n",
       "      <th>XGBClassifier</th>\n",
       "      <td>0.603630</td>\n",
       "      <td>0.023725</td>\n",
       "      <td>0.737780</td>\n",
       "      <td>0.726183</td>\n",
       "      <td>0.686091</td>\n",
       "      <td>0.705534</td>\n",
       "      <td>0.816241</td>\n",
       "    </tr>\n",
       "  </tbody>\n",
       "</table>\n",
       "</div>"
      ],
      "text/plain": [
       "                    fit_time  score_time  test_acc  test_precision  \\\n",
       "LogisticRegression  0.187680    0.022442  0.621035        0.593230   \n",
       "LGBMClassifier      0.156411    0.026567  0.736531        0.730651   \n",
       "CatBoostClassifier  3.616485    0.021844  0.736674        0.727690   \n",
       "XGBClassifier       0.603630    0.023725  0.737780        0.726183   \n",
       "\n",
       "                    test_recall   test_f1  test_roc_auc  \n",
       "LogisticRegression     0.548301  0.569838      0.667856  \n",
       "LGBMClassifier         0.672540  0.700380      0.816259  \n",
       "CatBoostClassifier     0.679114  0.702535      0.817584  \n",
       "XGBClassifier          0.686091  0.705534      0.816241  "
      ]
     },
     "execution_count": 69,
     "metadata": {},
     "output_type": "execute_result"
    }
   ],
   "source": [
    "evaluate_models(X_train, y_train, list_models)"
   ]
  },
  {
   "cell_type": "markdown",
   "id": "144604f5-54e9-41d1-9af0-0e2d0ba01737",
   "metadata": {},
   "source": [
    "# 7.0. Hyperparameter Fine Tuning\n",
    "Here in funetunning some hyperparameters will be selected with some values. These values will be combined and we will have a final model with the best hyperparameters for the model.   \n",
    "For this, the GridSearchCV was used, which returns all possible combinations of the inserted hyperparameters.   \n",
    "The Metric used for this will be the metric used during the evaluation: The Precision.\n",
    "Precision tells us of those inputs that our model predicted as a conversion, how many actually are. \n",
    "I believe it is the best metric because it allows us to say how assertive we are with those coupons that we are delivering."
   ]
  },
  {
   "cell_type": "code",
   "execution_count": 176,
   "id": "b4c847d3-3743-4e15-abd8-4552ac728019",
   "metadata": {},
   "outputs": [],
   "source": [
    "def final_model(model, imput_strat='mean'):\n",
    "    \"\"\"\n",
    "    Function that performs the finetuning of the model with the desired parameters\n",
    "    \"\"\"\n",
    "    imp = SimpleImputer(missing_values=np.nan, strategy=imput_strat)\n",
    "    \n",
    "    pipeline = Pipeline([\n",
    "        ('imp', imp),\n",
    "        ('clf', model)\n",
    "        ])\n",
    "\n",
    "    train_model = ms.GridSearchCV(pipeline, parameters, verbose=0, scoring='precision', n_jobs=-1)\n",
    "    \n",
    "    return train_model"
   ]
  },
  {
   "cell_type": "code",
   "execution_count": 177,
   "id": "91d89404-68f9-4d30-a94e-46f6e615096a",
   "metadata": {},
   "outputs": [],
   "source": [
    "parameters = {\n",
    "'clf__max_depth': (3, 6, 10),\n",
    "'clf__n_estimators': (100, 500, 1000),\n",
    "'clf__learning_rate': (0.1, 0.2, 0.3),\n",
    "'clf__colsample_bytree': (0.3, 0.5, 0.10),\n",
    "'clf__subsample': (0.3, 0.5, 0.10),\n",
    "}"
   ]
  },
  {
   "cell_type": "code",
   "execution_count": 178,
   "id": "ebf74448-6aff-4269-bd3a-c2efbc2c5e02",
   "metadata": {},
   "outputs": [],
   "source": [
    "model = xgboost.XGBClassifier(n_jobs=-1, random_state=32)"
   ]
  },
  {
   "cell_type": "code",
   "execution_count": 179,
   "id": "70419e01-f70b-4b5c-985e-6ad85a69feeb",
   "metadata": {},
   "outputs": [],
   "source": [
    "final_model = final_model(model)"
   ]
  },
  {
   "cell_type": "code",
   "execution_count": 180,
   "id": "5942d134-fb08-4954-9b70-85ff39ef2156",
   "metadata": {},
   "outputs": [
    {
     "data": {
      "text/plain": [
       "GridSearchCV(estimator=Pipeline(steps=[('imp', SimpleImputer()),\n",
       "                                       ('clf',\n",
       "                                        XGBClassifier(base_score=None,\n",
       "                                                      booster=None,\n",
       "                                                      callbacks=None,\n",
       "                                                      colsample_bylevel=None,\n",
       "                                                      colsample_bynode=None,\n",
       "                                                      colsample_bytree=None,\n",
       "                                                      early_stopping_rounds=None,\n",
       "                                                      enable_categorical=False,\n",
       "                                                      eval_metric=None,\n",
       "                                                      gamma=None, gpu_id=None,\n",
       "                                                      grow_policy=None,\n",
       "                                                      importance_type=None,\n",
       "                                                      interaction_constraints=N...\n",
       "                                                      monotone_constraints=None,\n",
       "                                                      n_estimators=100,\n",
       "                                                      n_jobs=-1,\n",
       "                                                      num_parallel_tree=None,\n",
       "                                                      predictor=None,\n",
       "                                                      random_state=32,\n",
       "                                                      reg_alpha=None,\n",
       "                                                      reg_lambda=None, ...))]),\n",
       "             n_jobs=-1,\n",
       "             param_grid={'clf__colsample_bytree': (0.3, 0.5, 0.1),\n",
       "                         'clf__learning_rate': (0.1, 0.2, 0.3),\n",
       "                         'clf__max_depth': (3, 6, 10),\n",
       "                         'clf__n_estimators': (100, 500, 1000),\n",
       "                         'clf__subsample': (0.3, 0.5, 0.1)},\n",
       "             scoring='precision')"
      ]
     },
     "execution_count": 180,
     "metadata": {},
     "output_type": "execute_result"
    }
   ],
   "source": [
    "final_model.fit(X_train, y_train)"
   ]
  },
  {
   "cell_type": "code",
   "execution_count": 181,
   "id": "6389e5a9-f294-4db9-abdf-4a0a12a14851",
   "metadata": {},
   "outputs": [
    {
     "data": {
      "text/plain": [
       "{'clf__colsample_bytree': 0.5,\n",
       " 'clf__learning_rate': 0.1,\n",
       " 'clf__max_depth': 10,\n",
       " 'clf__n_estimators': 100,\n",
       " 'clf__subsample': 0.5}"
      ]
     },
     "execution_count": 181,
     "metadata": {},
     "output_type": "execute_result"
    }
   ],
   "source": [
    "final_model.best_params_"
   ]
  },
  {
   "cell_type": "code",
   "execution_count": 244,
   "id": "8f1f7a95-cd6e-4c58-a665-48d05f02902d",
   "metadata": {},
   "outputs": [
    {
     "data": {
      "text/plain": [
       "0.7247593607591303"
      ]
     },
     "execution_count": 244,
     "metadata": {},
     "output_type": "execute_result"
    }
   ],
   "source": [
    "final_model.best_score_"
   ]
  },
  {
   "cell_type": "markdown",
   "id": "776d5a7c-13e4-4fdf-9a09-c458db57c6b9",
   "metadata": {},
   "source": [
    "# 8.0. Evaluating\n",
    "The last step is to assess how well our model is dealing with never-before-seen data. For that, we need to have a baseline that allows us to compare the model to something.   "
   ]
  },
  {
   "cell_type": "markdown",
   "id": "d2ba3722-68c2-4dbd-8807-2f9fae79a265",
   "metadata": {},
   "source": [
    "## 8.1. Baseline\n",
    "The Baseline for the case will be all coupons being delivered to all cases in the dataset. So y_predict = 1 for all cases. This makes sense as this is exactly what was done in the case."
   ]
  },
  {
   "cell_type": "code",
   "execution_count": 182,
   "id": "a634d6f4-988a-464f-8abc-97f57b2dff38",
   "metadata": {},
   "outputs": [],
   "source": [
    "df_test = pd.merge(X_test, y_test, left_index=True, right_index=True)"
   ]
  },
  {
   "cell_type": "code",
   "execution_count": 183,
   "id": "fb2f80d4-daf8-46ae-a9de-1103d4587725",
   "metadata": {},
   "outputs": [],
   "source": [
    "df_test['pred'] = 1"
   ]
  },
  {
   "cell_type": "code",
   "execution_count": 207,
   "id": "78ffdf96-562e-4583-87dd-0a227bce46cf",
   "metadata": {},
   "outputs": [],
   "source": [
    "base_prec = me.precision_score(df_test['consciously_complete'], df_test['pred']) * 100\n",
    "base_recall = me.recall_score(df_test['consciously_complete'], df_test['pred']) * 100\n",
    "base_accuracy = me.accuracy_score(df_test['consciously_complete'], df_test['pred']) * 100"
   ]
  },
  {
   "cell_type": "markdown",
   "id": "cb59bc2b-9376-496f-abc2-beb9f4242681",
   "metadata": {},
   "source": [
    "## 8.2. Model\n",
    "Here the metrics for the model we created with the test data will be generated."
   ]
  },
  {
   "cell_type": "code",
   "execution_count": 208,
   "id": "ea9d30ce-79cb-4050-b22e-948185d4ebc3",
   "metadata": {},
   "outputs": [],
   "source": [
    "predicts_test = final_model.predict(X_test)"
   ]
  },
  {
   "cell_type": "code",
   "execution_count": 209,
   "id": "bddc6d40-8e1b-4ee9-9fa6-072356706e88",
   "metadata": {},
   "outputs": [],
   "source": [
    "model_prec = me.precision_score(y_test, predicts_test) * 100\n",
    "model_recall = me.recall_score(y_test, predicts_test) * 100\n",
    "model_accuracy = me.accuracy_score(y_test, predicts_test) * 100"
   ]
  },
  {
   "cell_type": "markdown",
   "id": "1a4c3ec4-7e53-49dd-b0d2-3fcd83164756",
   "metadata": {},
   "source": [
    "## 8.3. Compare\n",
    "With the comparison it is possible to visualize 2 main insights:\n",
    "* Regarding precision (Of those data that were predicted as positive, how many are actually positive), our model significantly increased performance:\n",
    "    - Baseline: 45.79% Precision\n",
    "    - Model: 72.56% Precision\n",
    "    \n",
    "* Regarding the recall (Of those that are really positive, how many our model predicted as positive), the baseline had a 100% performance, well above the model. But this, when viewed in aggregate, is not necessarily a good thing because the baseline is considering all cases to be positive. That way, she has a wider range of hits, but misses in many cases, as can be seen by her precision and recall."
   ]
  },
  {
   "cell_type": "code",
   "execution_count": 252,
   "id": "7873407a-e0b4-489b-aeb9-9297e2b57f1c",
   "metadata": {},
   "outputs": [],
   "source": [
    "df_compare = pd.DataFrame({'Baseline': [base_prec, base_recall, base_accuracy],\n",
    "                           'Model': [model_prec, model_recall, model_accuracy]},\n",
    "                          index=['Precision', 'Recall', 'Accuracy']).T.reset_index()\n",
    "df_compare.rename({'index': 'Type'}, axis=1, inplace=True)"
   ]
  },
  {
   "cell_type": "code",
   "execution_count": 253,
   "id": "fd159f06-6025-4048-9ad9-30fca869bff4",
   "metadata": {},
   "outputs": [
    {
     "data": {
      "text/html": [
       "<div>\n",
       "<style scoped>\n",
       "    .dataframe tbody tr th:only-of-type {\n",
       "        vertical-align: middle;\n",
       "    }\n",
       "\n",
       "    .dataframe tbody tr th {\n",
       "        vertical-align: top;\n",
       "    }\n",
       "\n",
       "    .dataframe thead th {\n",
       "        text-align: right;\n",
       "    }\n",
       "</style>\n",
       "<table border=\"1\" class=\"dataframe\">\n",
       "  <thead>\n",
       "    <tr style=\"text-align: right;\">\n",
       "      <th></th>\n",
       "      <th>Type</th>\n",
       "      <th>Precision</th>\n",
       "      <th>Recall</th>\n",
       "      <th>Accuracy</th>\n",
       "    </tr>\n",
       "  </thead>\n",
       "  <tbody>\n",
       "    <tr>\n",
       "      <th>0</th>\n",
       "      <td>Baseline</td>\n",
       "      <td>45.785896</td>\n",
       "      <td>100.000000</td>\n",
       "      <td>45.785896</td>\n",
       "    </tr>\n",
       "    <tr>\n",
       "      <th>1</th>\n",
       "      <td>Model</td>\n",
       "      <td>72.561205</td>\n",
       "      <td>68.926655</td>\n",
       "      <td>73.838971</td>\n",
       "    </tr>\n",
       "  </tbody>\n",
       "</table>\n",
       "</div>"
      ],
      "text/plain": [
       "       Type  Precision      Recall   Accuracy\n",
       "0  Baseline  45.785896  100.000000  45.785896\n",
       "1     Model  72.561205   68.926655  73.838971"
      ]
     },
     "execution_count": 253,
     "metadata": {},
     "output_type": "execute_result"
    }
   ],
   "source": [
    "df_compare"
   ]
  },
  {
   "cell_type": "code",
   "execution_count": 254,
   "id": "1f440bf4-e07e-42a2-8aa4-e872f826c744",
   "metadata": {},
   "outputs": [],
   "source": [
    "df_compare_aux = df_compare.melt(id_vars='Type').rename(columns=str.title)"
   ]
  },
  {
   "cell_type": "code",
   "execution_count": 255,
   "id": "65df5b64-34a0-4acf-bfdf-83719f4eb959",
   "metadata": {},
   "outputs": [
    {
     "data": {
      "image/png": "[encoded data removed]",
      "text/plain": [
       "<Figure size 1800x864 with 1 Axes>"
      ]
     },
     "metadata": {},
     "output_type": "display_data"
    }
   ],
   "source": [
    "fig, ax = plt.subplots()\n",
    "\n",
    "sns.barplot(x='Variable', y='Value', hue='Type', data=df_compare_aux)\n",
    "\n",
    "plt.title('Baseline x Model Metrics Compare')\n",
    "plt.ylabel('Metric %')\n",
    "plt.xlabel('Metric')\n",
    "\n",
    "ax.bar_label(ax.containers[-2], fmt='%.2f', label_type='edge')\n",
    "ax.bar_label(ax.containers[-1], fmt='%.2f', label_type='edge');"
   ]
  },
  {
   "cell_type": "code",
   "execution_count": 260,
   "id": "ebb48b04-b5e9-47ed-801f-78c8e1489943",
   "metadata": {},
   "outputs": [
    {
     "data": {
      "image/png": "[encoded data removed]",
      "text/plain": [
       "<Figure size 1800x864 with 1 Axes>"
      ]
     },
     "metadata": {},
     "output_type": "display_data"
    }
   ],
   "source": [
    "fig, ax = plt.subplots()\n",
    "\n",
    "sns.barplot(x='Type', y='Precision', data=df_compare)\n",
    "\n",
    "plt.title('Baseline x Model Precision Compare')\n",
    "plt.ylabel('Metric %')\n",
    "plt.xlabel('Metric')\n",
    "\n",
    "ax.bar_label(ax.containers[-1], fmt='%.2f', label_type='edge');\n",
    "\n",
    "plt.savefig('img/precision')"
   ]
  },
  {
   "cell_type": "code",
   "execution_count": null,
   "id": "600d8e5b-d739-4b26-9e35-f1136185b200",
   "metadata": {},
   "outputs": [],
   "source": []
  }
 ],
 "metadata": {
  "kernelspec": {
   "display_name": "Python 3 (ipykernel)",
   "language": "python",
   "name": "python3"
  },
  "language_info": {
   "codemirror_mode": {
    "name": "ipython",
    "version": 3
   },
   "file_extension": ".py",
   "mimetype": "text/x-python",
   "name": "python",
   "nbconvert_exporter": "python",
   "pygments_lexer": "ipython3",
   "version": "3.7.9"
  }
 },
 "nbformat": 4,
 "nbformat_minor": 5
}
